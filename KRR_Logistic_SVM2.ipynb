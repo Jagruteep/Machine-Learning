{
 "cells": [
  {
   "cell_type": "markdown",
   "metadata": {},
   "source": [
    "# Implementation of KRR, Logistic Regression and SVM"
   ]
  },
  {
   "cell_type": "code",
   "execution_count": 1,
   "metadata": {},
   "outputs": [
    {
     "name": "stderr",
     "output_type": "stream",
     "text": [
      "C:\\Users\\jagpa\\Anaconda3\\lib\\site-packages\\sklearn\\cross_validation.py:41: DeprecationWarning: This module was deprecated in version 0.18 in favor of the model_selection module into which all the refactored classes and functions are moved. Also note that the interface of the new CV iterators are different from that of this module. This module will be removed in 0.20.\n",
      "  \"This module will be removed in 0.20.\", DeprecationWarning)\n",
      "C:\\Users\\jagpa\\Anaconda3\\lib\\site-packages\\sklearn\\grid_search.py:42: DeprecationWarning: This module was deprecated in version 0.18 in favor of the model_selection module into which all the refactored classes and functions are moved. This module will be removed in 0.20.\n",
      "  DeprecationWarning)\n"
     ]
    }
   ],
   "source": [
    "import numpy as np\n",
    "import pandas as pd\n",
    "import seaborn as sns\n",
    "import matplotlib.pyplot as plt\n",
    "import warnings\n",
    "warnings.filterwarnings('ignore')\n",
    "from sklearn.model_selection import train_test_split\n",
    "from sklearn import model_selection, linear_model\n",
    "from sklearn.metrics import mean_squared_error\n",
    "from sklearn.metrics import r2_score\n",
    "%matplotlib inline\n",
    "from sklearn import preprocessing\n",
    "from sklearn.kernel_ridge import KernelRidge\n",
    "from sklearn.grid_search import GridSearchCV\n",
    "from sklearn.decomposition import PCA\n",
    "from sklearn.preprocessing import Imputer\n",
    "from sklearn.metrics import confusion_matrix"
   ]
  },
  {
   "cell_type": "code",
   "execution_count": 2,
   "metadata": {
    "collapsed": true
   },
   "outputs": [],
   "source": [
    "data = np.genfromtxt('C:/Users/jagpa/ML/ML_Exam/classsification/classification_data2.txt')\n",
    "data = pd.DataFrame(data,index=data[:,0],columns=['area','perimeter','compactness','kernel_length','kernel_width','asym','groove_length','type'])"
   ]
  },
  {
   "cell_type": "markdown",
   "metadata": {},
   "source": [
    "# Summary statistics of data"
   ]
  },
  {
   "cell_type": "code",
   "execution_count": 3,
   "metadata": {},
   "outputs": [
    {
     "data": {
      "text/html": [
       "<div>\n",
       "<style>\n",
       "    .dataframe thead tr:only-child th {\n",
       "        text-align: right;\n",
       "    }\n",
       "\n",
       "    .dataframe thead th {\n",
       "        text-align: left;\n",
       "    }\n",
       "\n",
       "    .dataframe tbody tr th {\n",
       "        vertical-align: top;\n",
       "    }\n",
       "</style>\n",
       "<table border=\"1\" class=\"dataframe\">\n",
       "  <thead>\n",
       "    <tr style=\"text-align: right;\">\n",
       "      <th></th>\n",
       "      <th>area</th>\n",
       "      <th>perimeter</th>\n",
       "      <th>compactness</th>\n",
       "      <th>kernel_length</th>\n",
       "      <th>kernel_width</th>\n",
       "      <th>asym</th>\n",
       "      <th>groove_length</th>\n",
       "      <th>type</th>\n",
       "    </tr>\n",
       "  </thead>\n",
       "  <tbody>\n",
       "    <tr>\n",
       "      <th>NaN</th>\n",
       "      <td>NaN</td>\n",
       "      <td>NaN</td>\n",
       "      <td>NaN</td>\n",
       "      <td>NaN</td>\n",
       "      <td>NaN</td>\n",
       "      <td>NaN</td>\n",
       "      <td>NaN</td>\n",
       "      <td>NaN</td>\n",
       "    </tr>\n",
       "    <tr>\n",
       "      <th>15.26</th>\n",
       "      <td>15.26</td>\n",
       "      <td>14.84</td>\n",
       "      <td>0.8710</td>\n",
       "      <td>5.763</td>\n",
       "      <td>3.312</td>\n",
       "      <td>2.221</td>\n",
       "      <td>5.220</td>\n",
       "      <td>1.0</td>\n",
       "    </tr>\n",
       "    <tr>\n",
       "      <th>14.88</th>\n",
       "      <td>14.88</td>\n",
       "      <td>14.57</td>\n",
       "      <td>0.8811</td>\n",
       "      <td>5.554</td>\n",
       "      <td>3.333</td>\n",
       "      <td>1.018</td>\n",
       "      <td>4.956</td>\n",
       "      <td>1.0</td>\n",
       "    </tr>\n",
       "    <tr>\n",
       "      <th>14.29</th>\n",
       "      <td>14.29</td>\n",
       "      <td>14.09</td>\n",
       "      <td>0.9050</td>\n",
       "      <td>5.291</td>\n",
       "      <td>3.337</td>\n",
       "      <td>2.699</td>\n",
       "      <td>4.825</td>\n",
       "      <td>1.0</td>\n",
       "    </tr>\n",
       "    <tr>\n",
       "      <th>13.84</th>\n",
       "      <td>13.84</td>\n",
       "      <td>13.94</td>\n",
       "      <td>0.8955</td>\n",
       "      <td>5.324</td>\n",
       "      <td>3.379</td>\n",
       "      <td>2.259</td>\n",
       "      <td>4.805</td>\n",
       "      <td>1.0</td>\n",
       "    </tr>\n",
       "  </tbody>\n",
       "</table>\n",
       "</div>"
      ],
      "text/plain": [
       "         area  perimeter  compactness  kernel_length  kernel_width   asym  \\\n",
       "NaN       NaN        NaN          NaN            NaN           NaN    NaN   \n",
       " 15.26  15.26      14.84       0.8710          5.763         3.312  2.221   \n",
       " 14.88  14.88      14.57       0.8811          5.554         3.333  1.018   \n",
       " 14.29  14.29      14.09       0.9050          5.291         3.337  2.699   \n",
       " 13.84  13.84      13.94       0.8955          5.324         3.379  2.259   \n",
       "\n",
       "        groove_length  type  \n",
       "NaN               NaN   NaN  \n",
       " 15.26          5.220   1.0  \n",
       " 14.88          4.956   1.0  \n",
       " 14.29          4.825   1.0  \n",
       " 13.84          4.805   1.0  "
      ]
     },
     "execution_count": 3,
     "metadata": {},
     "output_type": "execute_result"
    }
   ],
   "source": [
    "data.head()"
   ]
  },
  {
   "cell_type": "markdown",
   "metadata": {},
   "source": [
    "**Dropping row**"
   ]
  },
  {
   "cell_type": "markdown",
   "metadata": {},
   "source": [
    "Data contains missing values. These values cause errors while handling the data further.I'm dropping row containing missing values (NaN) using dropna() function and then resetting the index."
   ]
  },
  {
   "cell_type": "code",
   "execution_count": 4,
   "metadata": {
    "collapsed": true
   },
   "outputs": [],
   "source": [
    "#taking care of missing values\n",
    "data=data.dropna()\n",
    "data=data.reset_index()"
   ]
  },
  {
   "cell_type": "code",
   "execution_count": 5,
   "metadata": {},
   "outputs": [
    {
     "data": {
      "text/html": [
       "<div>\n",
       "<style>\n",
       "    .dataframe thead tr:only-child th {\n",
       "        text-align: right;\n",
       "    }\n",
       "\n",
       "    .dataframe thead th {\n",
       "        text-align: left;\n",
       "    }\n",
       "\n",
       "    .dataframe tbody tr th {\n",
       "        vertical-align: top;\n",
       "    }\n",
       "</style>\n",
       "<table border=\"1\" class=\"dataframe\">\n",
       "  <thead>\n",
       "    <tr style=\"text-align: right;\">\n",
       "      <th></th>\n",
       "      <th>index</th>\n",
       "      <th>area</th>\n",
       "      <th>perimeter</th>\n",
       "      <th>compactness</th>\n",
       "      <th>kernel_length</th>\n",
       "      <th>kernel_width</th>\n",
       "      <th>asym</th>\n",
       "      <th>groove_length</th>\n",
       "      <th>type</th>\n",
       "    </tr>\n",
       "  </thead>\n",
       "  <tbody>\n",
       "    <tr>\n",
       "      <th>0</th>\n",
       "      <td>15.26</td>\n",
       "      <td>15.26</td>\n",
       "      <td>14.84</td>\n",
       "      <td>0.8710</td>\n",
       "      <td>5.763</td>\n",
       "      <td>3.312</td>\n",
       "      <td>2.221</td>\n",
       "      <td>5.220</td>\n",
       "      <td>1.0</td>\n",
       "    </tr>\n",
       "    <tr>\n",
       "      <th>1</th>\n",
       "      <td>14.88</td>\n",
       "      <td>14.88</td>\n",
       "      <td>14.57</td>\n",
       "      <td>0.8811</td>\n",
       "      <td>5.554</td>\n",
       "      <td>3.333</td>\n",
       "      <td>1.018</td>\n",
       "      <td>4.956</td>\n",
       "      <td>1.0</td>\n",
       "    </tr>\n",
       "    <tr>\n",
       "      <th>2</th>\n",
       "      <td>14.29</td>\n",
       "      <td>14.29</td>\n",
       "      <td>14.09</td>\n",
       "      <td>0.9050</td>\n",
       "      <td>5.291</td>\n",
       "      <td>3.337</td>\n",
       "      <td>2.699</td>\n",
       "      <td>4.825</td>\n",
       "      <td>1.0</td>\n",
       "    </tr>\n",
       "    <tr>\n",
       "      <th>3</th>\n",
       "      <td>13.84</td>\n",
       "      <td>13.84</td>\n",
       "      <td>13.94</td>\n",
       "      <td>0.8955</td>\n",
       "      <td>5.324</td>\n",
       "      <td>3.379</td>\n",
       "      <td>2.259</td>\n",
       "      <td>4.805</td>\n",
       "      <td>1.0</td>\n",
       "    </tr>\n",
       "    <tr>\n",
       "      <th>4</th>\n",
       "      <td>16.14</td>\n",
       "      <td>16.14</td>\n",
       "      <td>14.99</td>\n",
       "      <td>0.9034</td>\n",
       "      <td>5.658</td>\n",
       "      <td>3.562</td>\n",
       "      <td>1.355</td>\n",
       "      <td>5.175</td>\n",
       "      <td>1.0</td>\n",
       "    </tr>\n",
       "  </tbody>\n",
       "</table>\n",
       "</div>"
      ],
      "text/plain": [
       "   index   area  perimeter  compactness  kernel_length  kernel_width   asym  \\\n",
       "0  15.26  15.26      14.84       0.8710          5.763         3.312  2.221   \n",
       "1  14.88  14.88      14.57       0.8811          5.554         3.333  1.018   \n",
       "2  14.29  14.29      14.09       0.9050          5.291         3.337  2.699   \n",
       "3  13.84  13.84      13.94       0.8955          5.324         3.379  2.259   \n",
       "4  16.14  16.14      14.99       0.9034          5.658         3.562  1.355   \n",
       "\n",
       "   groove_length  type  \n",
       "0          5.220   1.0  \n",
       "1          4.956   1.0  \n",
       "2          4.825   1.0  \n",
       "3          4.805   1.0  \n",
       "4          5.175   1.0  "
      ]
     },
     "execution_count": 5,
     "metadata": {},
     "output_type": "execute_result"
    }
   ],
   "source": [
    "data.head()"
   ]
  },
  {
   "cell_type": "code",
   "execution_count": 6,
   "metadata": {},
   "outputs": [
    {
     "name": "stdout",
     "output_type": "stream",
     "text": [
      "<class 'pandas.core.frame.DataFrame'>\n",
      "RangeIndex: 210 entries, 0 to 209\n",
      "Data columns (total 9 columns):\n",
      "index            210 non-null float64\n",
      "area             210 non-null float64\n",
      "perimeter        210 non-null float64\n",
      "compactness      210 non-null float64\n",
      "kernel_length    210 non-null float64\n",
      "kernel_width     210 non-null float64\n",
      "asym             210 non-null float64\n",
      "groove_length    210 non-null float64\n",
      "type             210 non-null float64\n",
      "dtypes: float64(9)\n",
      "memory usage: 14.8 KB\n"
     ]
    }
   ],
   "source": [
    "data.info()"
   ]
  },
  {
   "cell_type": "code",
   "execution_count": 7,
   "metadata": {},
   "outputs": [
    {
     "data": {
      "text/html": [
       "<div>\n",
       "<style>\n",
       "    .dataframe thead tr:only-child th {\n",
       "        text-align: right;\n",
       "    }\n",
       "\n",
       "    .dataframe thead th {\n",
       "        text-align: left;\n",
       "    }\n",
       "\n",
       "    .dataframe tbody tr th {\n",
       "        vertical-align: top;\n",
       "    }\n",
       "</style>\n",
       "<table border=\"1\" class=\"dataframe\">\n",
       "  <thead>\n",
       "    <tr style=\"text-align: right;\">\n",
       "      <th></th>\n",
       "      <th>index</th>\n",
       "      <th>area</th>\n",
       "      <th>perimeter</th>\n",
       "      <th>compactness</th>\n",
       "      <th>kernel_length</th>\n",
       "      <th>kernel_width</th>\n",
       "      <th>asym</th>\n",
       "      <th>groove_length</th>\n",
       "      <th>type</th>\n",
       "    </tr>\n",
       "  </thead>\n",
       "  <tbody>\n",
       "    <tr>\n",
       "      <th>count</th>\n",
       "      <td>210.000000</td>\n",
       "      <td>210.000000</td>\n",
       "      <td>210.000000</td>\n",
       "      <td>210.000000</td>\n",
       "      <td>210.000000</td>\n",
       "      <td>210.000000</td>\n",
       "      <td>210.000000</td>\n",
       "      <td>210.000000</td>\n",
       "      <td>210.000000</td>\n",
       "    </tr>\n",
       "    <tr>\n",
       "      <th>mean</th>\n",
       "      <td>14.847524</td>\n",
       "      <td>14.847524</td>\n",
       "      <td>14.559286</td>\n",
       "      <td>0.870999</td>\n",
       "      <td>5.628533</td>\n",
       "      <td>3.258605</td>\n",
       "      <td>3.700201</td>\n",
       "      <td>5.408071</td>\n",
       "      <td>2.000000</td>\n",
       "    </tr>\n",
       "    <tr>\n",
       "      <th>std</th>\n",
       "      <td>2.909699</td>\n",
       "      <td>2.909699</td>\n",
       "      <td>1.305959</td>\n",
       "      <td>0.023629</td>\n",
       "      <td>0.443063</td>\n",
       "      <td>0.377714</td>\n",
       "      <td>1.503557</td>\n",
       "      <td>0.491480</td>\n",
       "      <td>0.818448</td>\n",
       "    </tr>\n",
       "    <tr>\n",
       "      <th>min</th>\n",
       "      <td>10.590000</td>\n",
       "      <td>10.590000</td>\n",
       "      <td>12.410000</td>\n",
       "      <td>0.808100</td>\n",
       "      <td>4.899000</td>\n",
       "      <td>2.630000</td>\n",
       "      <td>0.765100</td>\n",
       "      <td>4.519000</td>\n",
       "      <td>1.000000</td>\n",
       "    </tr>\n",
       "    <tr>\n",
       "      <th>25%</th>\n",
       "      <td>12.270000</td>\n",
       "      <td>12.270000</td>\n",
       "      <td>13.450000</td>\n",
       "      <td>0.856900</td>\n",
       "      <td>5.262250</td>\n",
       "      <td>2.944000</td>\n",
       "      <td>2.561500</td>\n",
       "      <td>5.045000</td>\n",
       "      <td>1.000000</td>\n",
       "    </tr>\n",
       "    <tr>\n",
       "      <th>50%</th>\n",
       "      <td>14.355000</td>\n",
       "      <td>14.355000</td>\n",
       "      <td>14.320000</td>\n",
       "      <td>0.873450</td>\n",
       "      <td>5.523500</td>\n",
       "      <td>3.237000</td>\n",
       "      <td>3.599000</td>\n",
       "      <td>5.223000</td>\n",
       "      <td>2.000000</td>\n",
       "    </tr>\n",
       "    <tr>\n",
       "      <th>75%</th>\n",
       "      <td>17.305000</td>\n",
       "      <td>17.305000</td>\n",
       "      <td>15.715000</td>\n",
       "      <td>0.887775</td>\n",
       "      <td>5.979750</td>\n",
       "      <td>3.561750</td>\n",
       "      <td>4.768750</td>\n",
       "      <td>5.877000</td>\n",
       "      <td>3.000000</td>\n",
       "    </tr>\n",
       "    <tr>\n",
       "      <th>max</th>\n",
       "      <td>21.180000</td>\n",
       "      <td>21.180000</td>\n",
       "      <td>17.250000</td>\n",
       "      <td>0.918300</td>\n",
       "      <td>6.675000</td>\n",
       "      <td>4.033000</td>\n",
       "      <td>8.456000</td>\n",
       "      <td>6.550000</td>\n",
       "      <td>3.000000</td>\n",
       "    </tr>\n",
       "  </tbody>\n",
       "</table>\n",
       "</div>"
      ],
      "text/plain": [
       "            index        area   perimeter  compactness  kernel_length  \\\n",
       "count  210.000000  210.000000  210.000000   210.000000     210.000000   \n",
       "mean    14.847524   14.847524   14.559286     0.870999       5.628533   \n",
       "std      2.909699    2.909699    1.305959     0.023629       0.443063   \n",
       "min     10.590000   10.590000   12.410000     0.808100       4.899000   \n",
       "25%     12.270000   12.270000   13.450000     0.856900       5.262250   \n",
       "50%     14.355000   14.355000   14.320000     0.873450       5.523500   \n",
       "75%     17.305000   17.305000   15.715000     0.887775       5.979750   \n",
       "max     21.180000   21.180000   17.250000     0.918300       6.675000   \n",
       "\n",
       "       kernel_width        asym  groove_length        type  \n",
       "count    210.000000  210.000000     210.000000  210.000000  \n",
       "mean       3.258605    3.700201       5.408071    2.000000  \n",
       "std        0.377714    1.503557       0.491480    0.818448  \n",
       "min        2.630000    0.765100       4.519000    1.000000  \n",
       "25%        2.944000    2.561500       5.045000    1.000000  \n",
       "50%        3.237000    3.599000       5.223000    2.000000  \n",
       "75%        3.561750    4.768750       5.877000    3.000000  \n",
       "max        4.033000    8.456000       6.550000    3.000000  "
      ]
     },
     "execution_count": 7,
     "metadata": {},
     "output_type": "execute_result"
    }
   ],
   "source": [
    "data.describe()"
   ]
  },
  {
   "cell_type": "markdown",
   "metadata": {},
   "source": [
    "**Separating data into Features (X) and Target(y).**"
   ]
  },
  {
   "cell_type": "code",
   "execution_count": 8,
   "metadata": {
    "collapsed": true
   },
   "outputs": [],
   "source": [
    "X = data.drop(['type'],axis=1).values\n",
    "y = data['type'].values"
   ]
  },
  {
   "cell_type": "markdown",
   "metadata": {},
   "source": [
    "# Plotting all the attributes"
   ]
  },
  {
   "cell_type": "markdown",
   "metadata": {
    "collapsed": true
   },
   "source": [
    "Principal Component Analysis (PCA) does the analysis of data to identify patterns and finding patterns to reduce the dimensions of thedataset with minimal loss of information. Here I'm using PCA to covert attributes into 2-dimensions and plot all of them."
   ]
  },
  {
   "cell_type": "markdown",
   "metadata": {},
   "source": [
    "**Scatter Plot**"
   ]
  },
  {
   "cell_type": "code",
   "execution_count": 9,
   "metadata": {},
   "outputs": [
    {
     "data": {
      "image/png": "[encoded data removed]",
      "text/plain": [
       "<matplotlib.figure.Figure at 0x260d2502208>"
      ]
     },
     "metadata": {},
     "output_type": "display_data"
    }
   ],
   "source": [
    "cmp_pca = PCA(n_components=2) # 2 PCA components;\n",
    "arr_pca = cmp_pca.fit_transform(X)\n",
    "plt.scatter(arr_pca[:,0],arr_pca[:,1],c='C')\n",
    "plt.show()"
   ]
  },
  {
   "cell_type": "markdown",
   "metadata": {},
   "source": [
    "**Histogram**"
   ]
  },
  {
   "cell_type": "code",
   "execution_count": 10,
   "metadata": {},
   "outputs": [
    {
     "data": {
      "image/png": "[encoded data removed]",
      "text/plain": [
       "<matplotlib.figure.Figure at 0x260d286eda0>"
      ]
     },
     "metadata": {},
     "output_type": "display_data"
    }
   ],
   "source": [
    "from numpy.random import normal\n",
    "arr_pca = normal(size=1000)\n",
    "plt.hist(arr_pca)\n",
    "plt.show()"
   ]
  },
  {
   "cell_type": "code",
   "execution_count": 11,
   "metadata": {},
   "outputs": [
    {
     "data": {
      "image/png": "[encoded data removed]",
      "text/plain": [
       "<matplotlib.figure.Figure at 0x260d289dda0>"
      ]
     },
     "metadata": {},
     "output_type": "display_data"
    }
   ],
   "source": [
    "q = pd.concat([data['area'], data['perimeter']], axis =1)\n",
    "plt.hist(q)\n",
    "plt.show()"
   ]
  },
  {
   "cell_type": "markdown",
   "metadata": {},
   "source": [
    "# Correlation Matrix"
   ]
  },
  {
   "cell_type": "markdown",
   "metadata": {},
   "source": [
    "correlation values between attribute columns are shown belown in Correlation Matrix."
   ]
  },
  {
   "cell_type": "code",
   "execution_count": 12,
   "metadata": {},
   "outputs": [
    {
     "data": {
      "text/html": [
       "<div>\n",
       "<style>\n",
       "    .dataframe thead tr:only-child th {\n",
       "        text-align: right;\n",
       "    }\n",
       "\n",
       "    .dataframe thead th {\n",
       "        text-align: left;\n",
       "    }\n",
       "\n",
       "    .dataframe tbody tr th {\n",
       "        vertical-align: top;\n",
       "    }\n",
       "</style>\n",
       "<table border=\"1\" class=\"dataframe\">\n",
       "  <thead>\n",
       "    <tr style=\"text-align: right;\">\n",
       "      <th></th>\n",
       "      <th>index</th>\n",
       "      <th>area</th>\n",
       "      <th>perimeter</th>\n",
       "      <th>compactness</th>\n",
       "      <th>kernel_length</th>\n",
       "      <th>kernel_width</th>\n",
       "      <th>asym</th>\n",
       "      <th>groove_length</th>\n",
       "    </tr>\n",
       "  </thead>\n",
       "  <tbody>\n",
       "    <tr>\n",
       "      <th>index</th>\n",
       "      <td>1.000000</td>\n",
       "      <td>1.000000</td>\n",
       "      <td>0.994341</td>\n",
       "      <td>0.608288</td>\n",
       "      <td>0.949985</td>\n",
       "      <td>0.970771</td>\n",
       "      <td>-0.229572</td>\n",
       "      <td>0.863693</td>\n",
       "    </tr>\n",
       "    <tr>\n",
       "      <th>area</th>\n",
       "      <td>1.000000</td>\n",
       "      <td>1.000000</td>\n",
       "      <td>0.994341</td>\n",
       "      <td>0.608288</td>\n",
       "      <td>0.949985</td>\n",
       "      <td>0.970771</td>\n",
       "      <td>-0.229572</td>\n",
       "      <td>0.863693</td>\n",
       "    </tr>\n",
       "    <tr>\n",
       "      <th>perimeter</th>\n",
       "      <td>0.994341</td>\n",
       "      <td>0.994341</td>\n",
       "      <td>1.000000</td>\n",
       "      <td>0.529244</td>\n",
       "      <td>0.972422</td>\n",
       "      <td>0.944829</td>\n",
       "      <td>-0.217340</td>\n",
       "      <td>0.890784</td>\n",
       "    </tr>\n",
       "    <tr>\n",
       "      <th>compactness</th>\n",
       "      <td>0.608288</td>\n",
       "      <td>0.608288</td>\n",
       "      <td>0.529244</td>\n",
       "      <td>1.000000</td>\n",
       "      <td>0.367915</td>\n",
       "      <td>0.761635</td>\n",
       "      <td>-0.331471</td>\n",
       "      <td>0.226825</td>\n",
       "    </tr>\n",
       "    <tr>\n",
       "      <th>kernel_length</th>\n",
       "      <td>0.949985</td>\n",
       "      <td>0.949985</td>\n",
       "      <td>0.972422</td>\n",
       "      <td>0.367915</td>\n",
       "      <td>1.000000</td>\n",
       "      <td>0.860415</td>\n",
       "      <td>-0.171562</td>\n",
       "      <td>0.932806</td>\n",
       "    </tr>\n",
       "    <tr>\n",
       "      <th>kernel_width</th>\n",
       "      <td>0.970771</td>\n",
       "      <td>0.970771</td>\n",
       "      <td>0.944829</td>\n",
       "      <td>0.761635</td>\n",
       "      <td>0.860415</td>\n",
       "      <td>1.000000</td>\n",
       "      <td>-0.258037</td>\n",
       "      <td>0.749131</td>\n",
       "    </tr>\n",
       "    <tr>\n",
       "      <th>asym</th>\n",
       "      <td>-0.229572</td>\n",
       "      <td>-0.229572</td>\n",
       "      <td>-0.217340</td>\n",
       "      <td>-0.331471</td>\n",
       "      <td>-0.171562</td>\n",
       "      <td>-0.258037</td>\n",
       "      <td>1.000000</td>\n",
       "      <td>-0.011079</td>\n",
       "    </tr>\n",
       "    <tr>\n",
       "      <th>groove_length</th>\n",
       "      <td>0.863693</td>\n",
       "      <td>0.863693</td>\n",
       "      <td>0.890784</td>\n",
       "      <td>0.226825</td>\n",
       "      <td>0.932806</td>\n",
       "      <td>0.749131</td>\n",
       "      <td>-0.011079</td>\n",
       "      <td>1.000000</td>\n",
       "    </tr>\n",
       "  </tbody>\n",
       "</table>\n",
       "</div>"
      ],
      "text/plain": [
       "                  index      area  perimeter  compactness  kernel_length  \\\n",
       "index          1.000000  1.000000   0.994341     0.608288       0.949985   \n",
       "area           1.000000  1.000000   0.994341     0.608288       0.949985   \n",
       "perimeter      0.994341  0.994341   1.000000     0.529244       0.972422   \n",
       "compactness    0.608288  0.608288   0.529244     1.000000       0.367915   \n",
       "kernel_length  0.949985  0.949985   0.972422     0.367915       1.000000   \n",
       "kernel_width   0.970771  0.970771   0.944829     0.761635       0.860415   \n",
       "asym          -0.229572 -0.229572  -0.217340    -0.331471      -0.171562   \n",
       "groove_length  0.863693  0.863693   0.890784     0.226825       0.932806   \n",
       "\n",
       "               kernel_width      asym  groove_length  \n",
       "index              0.970771 -0.229572       0.863693  \n",
       "area               0.970771 -0.229572       0.863693  \n",
       "perimeter          0.944829 -0.217340       0.890784  \n",
       "compactness        0.761635 -0.331471       0.226825  \n",
       "kernel_length      0.860415 -0.171562       0.932806  \n",
       "kernel_width       1.000000 -0.258037       0.749131  \n",
       "asym              -0.258037  1.000000      -0.011079  \n",
       "groove_length      0.749131 -0.011079       1.000000  "
      ]
     },
     "execution_count": 12,
     "metadata": {},
     "output_type": "execute_result"
    }
   ],
   "source": [
    "#Correlation between values\n",
    "data2 = data.drop('type',axis=1)\n",
    "corr_mx = data2.corr()\n",
    "corr_mx"
   ]
  },
  {
   "cell_type": "markdown",
   "metadata": {},
   "source": [
    "# Train Test Split"
   ]
  },
  {
   "cell_type": "markdown",
   "metadata": {},
   "source": [
    "I'm splitting dataset into training and testing set by 80% i.e. 80% train set and 20% test set. Training set contains a known output and model learns on trained data in order to be generalized to other data. "
   ]
  },
  {
   "cell_type": "code",
   "execution_count": 13,
   "metadata": {},
   "outputs": [
    {
     "name": "stdout",
     "output_type": "stream",
     "text": [
      "Shape of training data\n",
      "(168, 8)\n",
      "Shape of testing data\n",
      "(42, 8)\n"
     ]
    }
   ],
   "source": [
    "X_train,X_test,y_train,y_test=train_test_split(X,y,test_size=0.2, random_state=1)\n",
    "print('Shape of training data')\n",
    "print(X_train.shape)\n",
    "print('Shape of testing data')\n",
    "print(X_test.shape)"
   ]
  },
  {
   "cell_type": "markdown",
   "metadata": {},
   "source": [
    "# **Logistic Regression Model**"
   ]
  },
  {
   "cell_type": "markdown",
   "metadata": {},
   "source": [
    "Logistic regression is a statistical method for analyzing a dataset in which there are one or more independent variables that determine an outcome. Logistic regression builds on the basic formula for linear regression (a), simplified to (b), which produces a predicted target value for an input vector.\n",
    "\n",
    "(a)    y(x) = w0+ w1Φ(x1) + ... + wnΦ(xn)\n",
    "\n",
    "(b)    y(x) = w'(x)"
   ]
  },
  {
   "cell_type": "code",
   "execution_count": 14,
   "metadata": {},
   "outputs": [
    {
     "data": {
      "text/plain": [
       "LogisticRegression(C=1.0, class_weight=None, dual=False, fit_intercept=True,\n",
       "          intercept_scaling=1, max_iter=100, multi_class='ovr', n_jobs=1,\n",
       "          penalty='l2', random_state=None, solver='liblinear', tol=0.0001,\n",
       "          verbose=0, warm_start=False)"
      ]
     },
     "execution_count": 14,
     "metadata": {},
     "output_type": "execute_result"
    }
   ],
   "source": [
    "LogisticRegressionModel = linear_model.LogisticRegression()\n",
    "LogisticRegressionModel.fit(X_train, y_train)"
   ]
  },
  {
   "cell_type": "code",
   "execution_count": 15,
   "metadata": {},
   "outputs": [
    {
     "name": "stdout",
     "output_type": "stream",
     "text": [
      "Score on test data : 0.97619047619\n"
     ]
    }
   ],
   "source": [
    "LogisticRegScore = LogisticRegressionModel.score(X_test,y_test)\n",
    "print('Score on test data :',LogisticRegScore)"
   ]
  },
  {
   "cell_type": "code",
   "execution_count": 16,
   "metadata": {},
   "outputs": [
    {
     "name": "stdout",
     "output_type": "stream",
     "text": [
      "Score on train data : 0.916666666667\n"
     ]
    }
   ],
   "source": [
    "LogisticRegScoreTrain = LogisticRegressionModel.score(X_train,y_train)\n",
    "print('Score on train data :',LogisticRegScoreTrain)"
   ]
  },
  {
   "cell_type": "code",
   "execution_count": 17,
   "metadata": {},
   "outputs": [
    {
     "name": "stdout",
     "output_type": "stream",
     "text": [
      "The Error of the Logistic Regression model is: \n",
      "[[19  1  0]\n",
      " [ 0  9  0]\n",
      " [ 0  0 13]]\n"
     ]
    }
   ],
   "source": [
    "logistic_model_predictions = LogisticRegressionModel.predict(X_test)\n",
    "logistic_error = confusion_matrix(y_true=y_test, y_pred=logistic_model_predictions, labels=None, sample_weight=None)\n",
    "print('The Error of the Logistic Regression model is: ')\n",
    "print(logistic_error)"
   ]
  },
  {
   "cell_type": "markdown",
   "metadata": {},
   "source": [
    "# Kernalized Ridge Regression"
   ]
  },
  {
   "cell_type": "markdown",
   "metadata": {},
   "source": [
    "We use plain Ridge Regression to minimize L2-regularized least-square error. Kernelized Ridge Regression has the same objective, but use a substitution to rewrite the function in terms of ΦΦᵀ, so that predictions can be made without needing to compute ΦΦᵀ directly.\n",
    "A few choices for the kernel are\n",
    "\n",
    "(a)Linear / Identity Kernel : K(X,X’) = Xᵀ X\n",
    "\n",
    "(b)Polynomial Kernel : K(X,X’) = (γ Xᵀ X + r)M \n",
    "\n",
    "(c)RBF / Gaussian Kernel : K(X,X’) = exp [ - (|| X - X’ ||2) / 2σ2 ]\n",
    "\n",
    "**Cross-Validation** :\n",
    "It is a model validation technique for evaluating how the outcomes of a statistical analysis will generalize to an independent data set. Mainly used in backgrounds where the objective is forecast and one wants to estimate how accurately a model will accomplish in practice. The goal of cross-validation is to term a data set to test the model in the training phase (i.e. validation data set) in order to limit problems like overfitting, and get an insight on how the model will generalize to an independent data set.\n",
    "\n",
    "\n",
    "**GridSearchCV** :\n",
    "Scikit-learn’s GridSearchCV performs k-fold cross validation and searches for a best parameters across a set of parameters. Here I'm using 5-fold cross validation for hyperparameter tuning.\n"
   ]
  },
  {
   "cell_type": "markdown",
   "metadata": {},
   "source": [
    "**Linear Kernel**"
   ]
  },
  {
   "cell_type": "code",
   "execution_count": 18,
   "metadata": {},
   "outputs": [
    {
     "data": {
      "text/plain": [
       "KernelRidge(alpha=1, coef0=1, degree=None, gamma=None, kernel='linear',\n",
       "      kernel_params=None)"
      ]
     },
     "execution_count": 18,
     "metadata": {},
     "output_type": "execute_result"
    }
   ],
   "source": [
    "KRR_linear=KernelRidge(kernel='linear', gamma=None, degree=None, coef0=1, kernel_params=None, alpha=1)\n",
    "KRR_linear.fit(X_train,y_train)"
   ]
  },
  {
   "cell_type": "code",
   "execution_count": 19,
   "metadata": {},
   "outputs": [
    {
     "data": {
      "text/plain": [
       "array([ 1.5052374 ,  3.14073854,  1.57054248,  2.20458318,  1.49524617,\n",
       "        1.91870254,  1.23108423,  2.66643771,  2.04278533,  2.75370438,\n",
       "        2.15481514,  0.86919645,  1.47553628,  0.67106418,  0.9470027 ,\n",
       "        3.16372088,  3.04370507,  1.42631499,  1.72194126,  1.53784171,\n",
       "        1.22473397,  1.34400707,  2.01128079,  2.69551771,  1.95456783,\n",
       "        3.09660846,  1.24849069,  3.29396408,  1.79579404,  1.78274563,\n",
       "        1.43869845,  1.79686211,  1.73526031,  1.40437377,  1.7818201 ,\n",
       "        1.64951075,  2.74833338,  1.6937078 ,  1.44840879,  2.34297151,\n",
       "        1.48728789,  2.63219737])"
      ]
     },
     "execution_count": 19,
     "metadata": {},
     "output_type": "execute_result"
    }
   ],
   "source": [
    "y_pred=KRR_linear.predict(X_test)\n",
    "y_pred"
   ]
  },
  {
   "cell_type": "code",
   "execution_count": 20,
   "metadata": {},
   "outputs": [
    {
     "name": "stdout",
     "output_type": "stream",
     "text": [
      "R^2 error for linear kernel : 0.732248875723\n"
     ]
    }
   ],
   "source": [
    "r2_error1 = r2_score(y_true=y_test, y_pred=y_pred)\n",
    "print('R^2 error for linear kernel :',r2_error1)"
   ]
  },
  {
   "cell_type": "code",
   "execution_count": 21,
   "metadata": {},
   "outputs": [
    {
     "name": "stdout",
     "output_type": "stream",
     "text": [
      "Score on test data : 0.732248875723\n"
     ]
    }
   ],
   "source": [
    "print('Score on test data :',KRR_linear.score(X_test,y_test))"
   ]
  },
  {
   "cell_type": "code",
   "execution_count": 22,
   "metadata": {},
   "outputs": [
    {
     "name": "stdout",
     "output_type": "stream",
     "text": [
      "Score on train data : 0.633851799365\n"
     ]
    }
   ],
   "source": [
    "print('Score on train data :',KRR_linear.score(X_train,y_train))"
   ]
  },
  {
   "cell_type": "markdown",
   "metadata": {},
   "source": [
    "**Polynomial Kernel**"
   ]
  },
  {
   "cell_type": "code",
   "execution_count": 23,
   "metadata": {},
   "outputs": [
    {
     "data": {
      "text/plain": [
       "GridSearchCV(cv=5, error_score='raise',\n",
       "       estimator=KernelRidge(alpha=1, coef0=1, degree=3, gamma=1, kernel='polynomial',\n",
       "      kernel_params=None),\n",
       "       fit_params={}, iid=True, n_jobs=1, param_grid={'degree': [2, 3, 4]},\n",
       "       pre_dispatch='2*n_jobs', refit=True, scoring=None, verbose=0)"
      ]
     },
     "execution_count": 23,
     "metadata": {},
     "output_type": "execute_result"
    }
   ],
   "source": [
    "KRR_polynomial= GridSearchCV(KernelRidge(kernel=\"polynomial\", gamma=1, coef0=1), cv=5, param_grid={\"degree\":[2,3,4]})\n",
    "KRR_polynomial.fit(X_train,y_train)"
   ]
  },
  {
   "cell_type": "code",
   "execution_count": 24,
   "metadata": {},
   "outputs": [
    {
     "data": {
      "text/plain": [
       "array([ 1.30962284,  3.37398694,  1.19752929,  2.30112428,  1.40606989,\n",
       "        2.34539598,  0.88434143,  2.63532931,  2.05337793,  3.09396025,\n",
       "        1.71956639,  0.93532035,  1.29781521,  0.84044922,  0.89421994,\n",
       "        3.47443568,  3.41802903,  1.11331712,  1.40537408,  1.2598908 ,\n",
       "        1.06911601,  1.07078225,  1.8849076 ,  2.9589795 ,  1.80618221,\n",
       "        3.32336356,  1.06917497,  3.67395659,  1.48982066,  2.0504868 ,\n",
       "        1.91584054,  2.18193851,  1.86543096,  1.09633405,  1.92404878,\n",
       "        1.8874245 ,  2.86034932,  2.02407664,  1.19186227,  2.51715612,\n",
       "        1.44643873,  2.62414818])"
      ]
     },
     "execution_count": 24,
     "metadata": {},
     "output_type": "execute_result"
    }
   ],
   "source": [
    "y_pred=KRR_polynomial.predict(X_test)\n",
    "y_pred"
   ]
  },
  {
   "cell_type": "code",
   "execution_count": 25,
   "metadata": {},
   "outputs": [
    {
     "data": {
      "text/plain": [
       "0.6898034275998355"
      ]
     },
     "execution_count": 25,
     "metadata": {},
     "output_type": "execute_result"
    }
   ],
   "source": [
    "KRR_polynomial.best_score_"
   ]
  },
  {
   "cell_type": "code",
   "execution_count": 26,
   "metadata": {},
   "outputs": [
    {
     "data": {
      "text/plain": [
       "{'degree': 2}"
      ]
     },
     "execution_count": 26,
     "metadata": {},
     "output_type": "execute_result"
    }
   ],
   "source": [
    "KRR_polynomial.best_params_"
   ]
  },
  {
   "cell_type": "markdown",
   "metadata": {},
   "source": [
    "**Gaussian Kernel**"
   ]
  },
  {
   "cell_type": "code",
   "execution_count": 27,
   "metadata": {},
   "outputs": [
    {
     "data": {
      "text/plain": [
       "GridSearchCV(cv=5, error_score='raise',\n",
       "       estimator=KernelRidge(alpha=1, coef0=1, degree=3, gamma=None, kernel='rbf',\n",
       "      kernel_params=None),\n",
       "       fit_params={}, iid=True, n_jobs=1,\n",
       "       param_grid={'gamma': [0.1, 0.5, 1, 2, 4]}, pre_dispatch='2*n_jobs',\n",
       "       refit=True, scoring=None, verbose=0)"
      ]
     },
     "execution_count": 27,
     "metadata": {},
     "output_type": "execute_result"
    }
   ],
   "source": [
    "KRR_gaussian= GridSearchCV(KernelRidge(kernel=\"rbf\"), cv=5, param_grid={\"gamma\":[ 0.1, 0.5, 1, 2, 4]})\n",
    "KRR_gaussian.fit(X_train,y_train)"
   ]
  },
  {
   "cell_type": "code",
   "execution_count": 28,
   "metadata": {},
   "outputs": [
    {
     "data": {
      "text/plain": [
       "array([ 1.1882059 ,  2.34261009,  1.37249802,  2.6578105 ,  1.37423523,\n",
       "        1.61320756,  0.99065665,  2.773754  ,  2.65243904,  3.03203517,\n",
       "        1.90093714,  1.03978623,  1.13564109,  0.80124957,  1.57193623,\n",
       "        2.9883227 ,  2.83332532,  1.00287919,  1.13317253,  1.09516972,\n",
       "        1.12383935,  1.4008979 ,  1.96868677,  2.70966179,  1.33860893,\n",
       "        3.21135868,  0.93285313,  2.91587875,  1.51862095,  2.03259141,\n",
       "        1.96385096,  2.04401751,  1.72399749,  1.01358187,  1.52979076,\n",
       "        1.90925269,  3.0384815 ,  1.31895557,  1.83640638,  2.61322975,\n",
       "        2.27895566,  3.10389553])"
      ]
     },
     "execution_count": 28,
     "metadata": {},
     "output_type": "execute_result"
    }
   ],
   "source": [
    "y_pred=KRR_gaussian.predict(X_test)\n",
    "y_pred"
   ]
  },
  {
   "cell_type": "code",
   "execution_count": 29,
   "metadata": {},
   "outputs": [
    {
     "data": {
      "text/plain": [
       "0.6814936166898518"
      ]
     },
     "execution_count": 29,
     "metadata": {},
     "output_type": "execute_result"
    }
   ],
   "source": [
    "KRR_gaussian.best_score_"
   ]
  },
  {
   "cell_type": "code",
   "execution_count": 30,
   "metadata": {},
   "outputs": [
    {
     "data": {
      "text/plain": [
       "{'gamma': 0.1}"
      ]
     },
     "execution_count": 30,
     "metadata": {},
     "output_type": "execute_result"
    }
   ],
   "source": [
    "KRR_gaussian.best_params_"
   ]
  },
  {
   "cell_type": "markdown",
   "metadata": {},
   "source": [
    "# SVM"
   ]
  },
  {
   "cell_type": "markdown",
   "metadata": {},
   "source": [
    "**Hard Margin SVM using rbf kernel**"
   ]
  },
  {
   "cell_type": "code",
   "execution_count": 31,
   "metadata": {},
   "outputs": [
    {
     "data": {
      "text/plain": [
       "SVC(C=10000000000.0, cache_size=3000, class_weight=None, coef0=0.0,\n",
       "  decision_function_shape='ovr', degree=3, gamma=1.5, kernel='rbf',\n",
       "  max_iter=-1, probability=False, random_state=None, shrinking=False,\n",
       "  tol=0.001, verbose=False)"
      ]
     },
     "execution_count": 31,
     "metadata": {},
     "output_type": "execute_result"
    }
   ],
   "source": [
    "from sklearn import svm\n",
    "hard_svm1 = svm.SVC(C =1e10,kernel=\"rbf\",gamma =1.5,shrinking=False,cache_size=3000)\n",
    "hard_svm1.fit(X_train,y_train)"
   ]
  },
  {
   "cell_type": "code",
   "execution_count": 32,
   "metadata": {},
   "outputs": [
    {
     "name": "stdout",
     "output_type": "stream",
     "text": [
      "y prediction : [ 1.  3.  1.  3.  1.  2.  1.  3.  3.  3.  2.  1.  1.  1.  1.  3.  3.  1.\n",
      "  1.  1.  1.  2.  2.  3.  1.  3.  1.  3.  1.  2.  2.  2.  2.  1.  3.  2.\n",
      "  3.  2.  3.  3.  3.  3.]\n",
      "Score on test set : 0.904761904762\n",
      "Score on train set : 1.0\n"
     ]
    }
   ],
   "source": [
    "y_pred= hard_svm1.predict(X_test)\n",
    "print('y prediction :',y_pred)\n",
    "print('Score on test set :',hard_svm1.score(X_test,y_test))\n",
    "print('Score on train set :',hard_svm1.score(X_train,y_train))"
   ]
  },
  {
   "cell_type": "code",
   "execution_count": 33,
   "metadata": {},
   "outputs": [
    {
     "name": "stdout",
     "output_type": "stream",
     "text": [
      "The Error of the Logistic Regression model is: \n",
      "[[16  1  3]\n",
      " [ 0  9  0]\n",
      " [ 0  0 13]]\n"
     ]
    }
   ],
   "source": [
    "y_pred=hard_svm1.predict(X_test)\n",
    "svm_error = confusion_matrix(y_true=y_test, y_pred=y_pred, labels=None, sample_weight=None)\n",
    "print('The Error of the Logistic Regression model is: ')\n",
    "print(svm_error)"
   ]
  },
  {
   "cell_type": "markdown",
   "metadata": {},
   "source": [
    "**Hard Margin SVM using linear kernel**"
   ]
  },
  {
   "cell_type": "code",
   "execution_count": 34,
   "metadata": {},
   "outputs": [
    {
     "data": {
      "text/plain": [
       "SVC(C=100000, cache_size=3000, class_weight=None, coef0=0.0,\n",
       "  decision_function_shape='ovr', degree=3, gamma=1, kernel='linear',\n",
       "  max_iter=-1, probability=False, random_state=None, shrinking=False,\n",
       "  tol=0.001, verbose=False)"
      ]
     },
     "execution_count": 34,
     "metadata": {},
     "output_type": "execute_result"
    }
   ],
   "source": [
    "hard_svm2 = svm.SVC(C =100000,kernel=\"linear\",gamma =1,shrinking=False,cache_size=3000)\n",
    "hard_svm2.fit(X_train,y_train)"
   ]
  },
  {
   "cell_type": "code",
   "execution_count": 35,
   "metadata": {},
   "outputs": [
    {
     "name": "stdout",
     "output_type": "stream",
     "text": [
      "y prediction : [ 1.  3.  1.  3.  1.  2.  1.  3.  1.  3.  2.  1.  1.  1.  1.  3.  3.  1.\n",
      "  1.  1.  1.  1.  2.  3.  1.  3.  1.  3.  1.  2.  2.  2.  2.  1.  1.  2.\n",
      "  3.  2.  1.  3.  1.  3.]\n",
      "Score on test set : 0.97619047619\n",
      "Score on train set : 0.982142857143\n"
     ]
    }
   ],
   "source": [
    "y_pred= hard_svm2.predict(X_test)\n",
    "print('y prediction :',y_pred)\n",
    "print('Score on test set :',hard_svm2.score(X_test,y_test))\n",
    "print('Score on train set :',hard_svm2.score(X_train,y_train))"
   ]
  },
  {
   "cell_type": "code",
   "execution_count": 36,
   "metadata": {},
   "outputs": [
    {
     "name": "stdout",
     "output_type": "stream",
     "text": [
      "The Error of linear kernel is: \n",
      "[[20  0  0]\n",
      " [ 0  9  0]\n",
      " [ 1  0 12]]\n"
     ]
    }
   ],
   "source": [
    "svm_error2 = confusion_matrix(y_true=y_test, y_pred=y_pred, labels=None, sample_weight=None)\n",
    "print('The Error of linear kernel is: ')\n",
    "print(svm_error2)"
   ]
  },
  {
   "cell_type": "markdown",
   "metadata": {},
   "source": [
    "**Hard Margin SVM using polynomial kernel**"
   ]
  },
  {
   "cell_type": "code",
   "execution_count": 37,
   "metadata": {},
   "outputs": [
    {
     "data": {
      "text/plain": [
       "SVC(C=10000, cache_size=3000, class_weight=None, coef0=0.0,\n",
       "  decision_function_shape='ovr', degree=3, gamma=1, kernel='poly',\n",
       "  max_iter=-1, probability=False, random_state=None, shrinking=False,\n",
       "  tol=0.001, verbose=False)"
      ]
     },
     "execution_count": 37,
     "metadata": {},
     "output_type": "execute_result"
    }
   ],
   "source": [
    "hard_svm3 = svm.SVC(C =10000,kernel=\"poly\",gamma =1,shrinking=False,cache_size=3000)\n",
    "hard_svm3.fit(X_train,y_train)"
   ]
  },
  {
   "cell_type": "code",
   "execution_count": 38,
   "metadata": {},
   "outputs": [
    {
     "name": "stdout",
     "output_type": "stream",
     "text": [
      "y prediction : [ 1.  3.  1.  3.  1.  2.  1.  3.  3.  3.  2.  1.  1.  1.  1.  3.  3.  1.\n",
      "  1.  1.  1.  1.  2.  3.  1.  3.  1.  3.  1.  2.  2.  2.  2.  1.  3.  2.\n",
      "  3.  2.  1.  3.  1.  3.]\n",
      "Score on test set : 0.97619047619\n",
      "Score on train set : 1.0\n"
     ]
    }
   ],
   "source": [
    "y_pred= hard_svm3.predict(X_test)\n",
    "print('y prediction :',y_pred)\n",
    "print('Score on test set :',hard_svm3.score(X_test,y_test))\n",
    "print('Score on train set :',hard_svm3.score(X_train,y_train))"
   ]
  },
  {
   "cell_type": "code",
   "execution_count": 39,
   "metadata": {},
   "outputs": [
    {
     "name": "stdout",
     "output_type": "stream",
     "text": [
      "The Error of polynomial kernel is: \n",
      "[[19  0  1]\n",
      " [ 0  9  0]\n",
      " [ 0  0 13]]\n"
     ]
    }
   ],
   "source": [
    "svm_error3 = confusion_matrix(y_true=y_test, y_pred=y_pred, labels=None, sample_weight=None)\n",
    "print('The Error of polynomial kernel is: ')\n",
    "print(svm_error3)"
   ]
  },
  {
   "cell_type": "markdown",
   "metadata": {},
   "source": [
    "**Soft Margin SVM**"
   ]
  },
  {
   "cell_type": "code",
   "execution_count": 40,
   "metadata": {},
   "outputs": [
    {
     "name": "stdout",
     "output_type": "stream",
     "text": [
      "y prediction : [ 1.  3.  2.  3.  1.  2.  1.  3.  3.  3.  2.  1.  1.  1.  1.  3.  3.  1.\n",
      "  1.  1.  1.  1.  2.  3.  1.  3.  1.  3.  1.  2.  2.  2.  2.  1.  1.  2.\n",
      "  3.  2.  1.  3.  3.  3.]\n",
      "score on test data for 0.1 : 0.952380952381\n",
      "score on train data for 0.1 : 0.916666666667\n",
      "confusion_mx_error for 0.1\n",
      "[[18  1  1]\n",
      " [ 0  9  0]\n",
      " [ 0  0 13]]\n",
      "\n",
      "\n",
      "y prediction : [ 1.  3.  2.  3.  1.  2.  1.  3.  3.  3.  2.  1.  1.  1.  1.  3.  3.  1.\n",
      "  1.  1.  1.  1.  2.  3.  1.  3.  1.  3.  1.  2.  2.  2.  2.  1.  1.  2.\n",
      "  3.  2.  1.  3.  3.  3.]\n",
      "score on test data for 0.5 : 0.952380952381\n",
      "score on train data for 0.5 : 0.916666666667\n",
      "confusion_mx_error for 0.5\n",
      "[[18  1  1]\n",
      " [ 0  9  0]\n",
      " [ 0  0 13]]\n",
      "\n",
      "\n",
      "y prediction : [ 1.  3.  2.  3.  1.  2.  1.  3.  3.  3.  2.  1.  1.  1.  1.  3.  3.  1.\n",
      "  1.  1.  1.  1.  2.  3.  1.  3.  1.  3.  1.  2.  2.  2.  2.  1.  1.  2.\n",
      "  3.  2.  1.  3.  3.  3.]\n",
      "score on test data for 1 : 0.952380952381\n",
      "score on train data for 1 : 0.916666666667\n",
      "confusion_mx_error for 1\n",
      "[[18  1  1]\n",
      " [ 0  9  0]\n",
      " [ 0  0 13]]\n",
      "\n",
      "\n",
      "y prediction : [ 1.  3.  2.  3.  1.  2.  1.  3.  3.  3.  2.  1.  1.  1.  1.  3.  3.  1.\n",
      "  1.  1.  1.  1.  2.  3.  1.  3.  1.  3.  1.  2.  2.  2.  2.  1.  1.  2.\n",
      "  3.  2.  1.  3.  3.  3.]\n",
      "score on test data for 2 : 0.952380952381\n",
      "score on train data for 2 : 0.916666666667\n",
      "confusion_mx_error for 2\n",
      "[[18  1  1]\n",
      " [ 0  9  0]\n",
      " [ 0  0 13]]\n",
      "\n",
      "\n"
     ]
    }
   ],
   "source": [
    "coef0 = [0.1, 0.5, 1, 2, 5]\n",
    "for i in range(4) :\n",
    "    soft_svm = svm.SVC(C = 1,coef0=coef0[i])\n",
    "    soft_svm.fit(X_train,y_train)\n",
    "    y_pred= soft_svm.predict(X_test)\n",
    "    print('y prediction :',y_pred)\n",
    "    print('score on test data for', coef0[i],':',soft_svm.score(X_test,y_test))\n",
    "    print('score on train data for', coef0[i],':',soft_svm.score(X_train,y_train))\n",
    "    conf_mx = confusion_matrix(y_test,y_pred)\n",
    "    print('confusion_mx_error for',coef0[i])\n",
    "    print(conf_mx)\n",
    "    print('\\n')"
   ]
  },
  {
   "cell_type": "markdown",
   "metadata": {},
   "source": [
    "**Soft Margin SVM using cross validation(RBF)**"
   ]
  },
  {
   "cell_type": "code",
   "execution_count": 41,
   "metadata": {},
   "outputs": [
    {
     "name": "stdout",
     "output_type": "stream",
     "text": [
      "score for rbf : 0.9285714285714286\n",
      "best parameters : {'C': 100, 'gamma': 0.1, 'kernel': 'rbf', 'max_iter': 5000}\n",
      "confusion_mx_error:\n",
      " [[18  1  1]\n",
      " [ 0  9  0]\n",
      " [ 0  0 13]]\n"
     ]
    }
   ],
   "source": [
    "soft_svm2_rbf = svm.SVC()\n",
    "soft_svm2_rbf = GridSearchCV(estimator=soft_svm2_rbf, param_grid={'kernel': ['rbf'], 'C': [1, 100, 1000],  'gamma': [0.1, 0.5, 1, 2, 5], 'max_iter':[5000]}, cv=5, refit=True, scoring='accuracy')\n",
    "soft_svm2_rbf.fit(X_train, y_train)\n",
    "y_pred2 = soft_svm2_rbf.predict(X_test)\n",
    "y_pred2\n",
    "print('score for rbf :',soft_svm2_rbf.best_score_)\n",
    "print('best parameters :',soft_svm2_rbf.best_params_)\n",
    "conf_mx = confusion_matrix(y_test,y_pred)\n",
    "print('confusion_mx_error:\\n',conf_mx)"
   ]
  },
  {
   "cell_type": "markdown",
   "metadata": {},
   "source": [
    "**Soft Margin SVM using cross validation(Poly)**"
   ]
  },
  {
   "cell_type": "code",
   "execution_count": 42,
   "metadata": {},
   "outputs": [
    {
     "name": "stdout",
     "output_type": "stream",
     "text": [
      "score for polynomial : 0.9047619047619048\n",
      "best parameters : {'C': 1, 'gamma': 0.5, 'kernel': 'poly', 'max_iter': 5000}\n",
      "confusion_mx_error:\n",
      " [[18  1  1]\n",
      " [ 0  9  0]\n",
      " [ 0  0 13]]\n"
     ]
    }
   ],
   "source": [
    "soft_svm2_poly = svm.SVC()\n",
    "soft_svm2_poly = GridSearchCV(estimator=soft_svm2_poly, param_grid={'kernel': ['poly'], 'C': [1, 100, 1000],  'gamma': [0.1, 0.5, 1, 2, 5], 'max_iter':[5000]}, cv=5, refit=True, scoring='accuracy')\n",
    "soft_svm2_poly.fit(X_train, y_train)\n",
    "y_pred2 = soft_svm2_poly.predict(X_test)\n",
    "y_pred2\n",
    "print('score for polynomial :',soft_svm2_poly.best_score_)\n",
    "print('best parameters :',soft_svm2_poly.best_params_)\n",
    "conf_mx = confusion_matrix(y_test,y_pred)\n",
    "print('confusion_mx_error:\\n',conf_mx)"
   ]
  },
  {
   "cell_type": "markdown",
   "metadata": {},
   "source": [
    "**Soft Margin SVM using cross validation(Linear)**"
   ]
  },
  {
   "cell_type": "code",
   "execution_count": 43,
   "metadata": {},
   "outputs": [
    {
     "name": "stdout",
     "output_type": "stream",
     "text": [
      "score for linear : 0.9404761904761905\n",
      "best parameters : {'C': 100, 'kernel': 'linear', 'max_iter': 5000}\n",
      "confusion_mx_error:\n",
      " [[18  1  1]\n",
      " [ 0  9  0]\n",
      " [ 0  0 13]]\n"
     ]
    }
   ],
   "source": [
    "soft_svm2_lnr = svm.SVC()\n",
    "soft_svm2_lnr = GridSearchCV(estimator=soft_svm2_lnr, param_grid={'kernel': ['linear'], 'C': [1, 100, 1000], 'max_iter':[5000]}, cv=5, refit=True, scoring='accuracy')\n",
    "soft_svm2_lnr.fit(X_train, y_train)\n",
    "y_pred2 = soft_svm2_lnr.predict(X_test)\n",
    "y_pred2\n",
    "print('score for linear :',soft_svm2_lnr.best_score_)\n",
    "print('best parameters :',soft_svm2_lnr.best_params_)\n",
    "conf_mx = confusion_matrix(y_test,y_pred)\n",
    "print('confusion_mx_error:\\n',conf_mx)"
   ]
  },
  {
   "cell_type": "markdown",
   "metadata": {},
   "source": [
    "# RESULT"
   ]
  },
  {
   "cell_type": "markdown",
   "metadata": {},
   "source": [
    "**Performance measures of all the models given below :**\n",
    "    \n",
    "**Logistic Regression Model** :  0.97619047619\n",
    "\n",
    "**Kernalized Ridge Regression** \n",
    "\n",
    "Linear Kernel :  0.732248875723, Polynomial Kernel : 0.6898034276003652, Gaussian Kernel : 0.6814936166898518\n",
    "\n",
    "**SVM**\n",
    "\n",
    "Hard SVM : rbf : 0.904761904762, liear : 0.97619047619 , poly :  0.97619047619\n",
    "\n",
    "\n",
    "Soft SVM : 0.952380952381 for all coefficients\n",
    "\n",
    "Soft SVM using CV : rbf :0.9285714285714286 for coef=0.1,  poly: 0.9047619047619048 for coef=0.5, linear:0.9404761904761905\n"
   ]
  },
  {
   "cell_type": "markdown",
   "metadata": {},
   "source": [
    "**Logistic Regression Model and Polynomial Kernel of Hard Margin SVM give best performances, but Hard margin SVM using polynomial kernel is best model only if C is 10000 otherwise Logistic Regression model is the best model for the data amongst all other models**"
   ]
  },
  {
   "cell_type": "code",
   "execution_count": null,
   "metadata": {
    "collapsed": true
   },
   "outputs": [],
   "source": []
  }
 ],
 "metadata": {
  "kernelspec": {
   "display_name": "Python 3",
   "language": "python",
   "name": "python3"
  },
  "language_info": {
   "codemirror_mode": {
    "name": "ipython",
    "version": 3
   },
   "file_extension": ".py",
   "mimetype": "text/x-python",
   "name": "python",
   "nbconvert_exporter": "python",
   "pygments_lexer": "ipython3",
   "version": "3.6.3"
  }
 },
 "nbformat": 4,
 "nbformat_minor": 2
}
