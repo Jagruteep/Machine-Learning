{
 "cells": [
  {
   "cell_type": "markdown",
   "metadata": {},
   "source": [
    "# Implementation of KRR, Logistic Regression and SVM"
   ]
  },
  {
   "cell_type": "code",
   "execution_count": 1,
   "metadata": {},
   "outputs": [
    {
     "name": "stderr",
     "output_type": "stream",
     "text": [
      "C:\\Users\\jagpa\\Anaconda3\\lib\\site-packages\\sklearn\\cross_validation.py:41: DeprecationWarning: This module was deprecated in version 0.18 in favor of the model_selection module into which all the refactored classes and functions are moved. Also note that the interface of the new CV iterators are different from that of this module. This module will be removed in 0.20.\n",
      "  \"This module will be removed in 0.20.\", DeprecationWarning)\n",
      "C:\\Users\\jagpa\\Anaconda3\\lib\\site-packages\\sklearn\\grid_search.py:42: DeprecationWarning: This module was deprecated in version 0.18 in favor of the model_selection module into which all the refactored classes and functions are moved. This module will be removed in 0.20.\n",
      "  DeprecationWarning)\n"
     ]
    }
   ],
   "source": [
    "import numpy as np\n",
    "import pandas as pd\n",
    "import seaborn as sns\n",
    "import matplotlib.pyplot as plt\n",
    "import warnings\n",
    "warnings.filterwarnings('ignore')\n",
    "from sklearn.model_selection import train_test_split\n",
    "from sklearn import model_selection, linear_model\n",
    "from sklearn.metrics import mean_squared_error\n",
    "%matplotlib inline\n",
    "from sklearn import preprocessing\n",
    "from sklearn.metrics import r2_score\n",
    "from sklearn.kernel_ridge import KernelRidge\n",
    "from sklearn.grid_search import GridSearchCV\n",
    "from sklearn.decomposition import PCA\n",
    "from sklearn.metrics import confusion_matrix"
   ]
  },
  {
   "cell_type": "code",
   "execution_count": 2,
   "metadata": {
    "collapsed": true
   },
   "outputs": [],
   "source": [
    "data=pd.read_csv('C:/Users/jagpa/ML/ML_Exam/classsification/classification_data.tsv',delimiter='\\t')"
   ]
  },
  {
   "cell_type": "markdown",
   "metadata": {},
   "source": [
    "# Summary Statistics of data"
   ]
  },
  {
   "cell_type": "code",
   "execution_count": 3,
   "metadata": {},
   "outputs": [
    {
     "data": {
      "text/html": [
       "<div>\n",
       "<style>\n",
       "    .dataframe thead tr:only-child th {\n",
       "        text-align: right;\n",
       "    }\n",
       "\n",
       "    .dataframe thead th {\n",
       "        text-align: left;\n",
       "    }\n",
       "\n",
       "    .dataframe tbody tr th {\n",
       "        vertical-align: top;\n",
       "    }\n",
       "</style>\n",
       "<table border=\"1\" class=\"dataframe\">\n",
       "  <thead>\n",
       "    <tr style=\"text-align: right;\">\n",
       "      <th></th>\n",
       "      <th>Red</th>\n",
       "      <th>Green</th>\n",
       "      <th>Blue</th>\n",
       "      <th>Class</th>\n",
       "    </tr>\n",
       "  </thead>\n",
       "  <tbody>\n",
       "    <tr>\n",
       "      <th>count</th>\n",
       "      <td>245057.000000</td>\n",
       "      <td>245057.000000</td>\n",
       "      <td>245057.000000</td>\n",
       "      <td>245057.000000</td>\n",
       "    </tr>\n",
       "    <tr>\n",
       "      <th>mean</th>\n",
       "      <td>125.065446</td>\n",
       "      <td>132.507327</td>\n",
       "      <td>123.177151</td>\n",
       "      <td>1.792461</td>\n",
       "    </tr>\n",
       "    <tr>\n",
       "      <th>std</th>\n",
       "      <td>62.255653</td>\n",
       "      <td>59.941197</td>\n",
       "      <td>72.562165</td>\n",
       "      <td>0.405546</td>\n",
       "    </tr>\n",
       "    <tr>\n",
       "      <th>min</th>\n",
       "      <td>0.000000</td>\n",
       "      <td>0.000000</td>\n",
       "      <td>0.000000</td>\n",
       "      <td>1.000000</td>\n",
       "    </tr>\n",
       "    <tr>\n",
       "      <th>25%</th>\n",
       "      <td>68.000000</td>\n",
       "      <td>87.000000</td>\n",
       "      <td>70.000000</td>\n",
       "      <td>2.000000</td>\n",
       "    </tr>\n",
       "    <tr>\n",
       "      <th>50%</th>\n",
       "      <td>139.000000</td>\n",
       "      <td>153.000000</td>\n",
       "      <td>128.000000</td>\n",
       "      <td>2.000000</td>\n",
       "    </tr>\n",
       "    <tr>\n",
       "      <th>75%</th>\n",
       "      <td>176.000000</td>\n",
       "      <td>177.000000</td>\n",
       "      <td>164.000000</td>\n",
       "      <td>2.000000</td>\n",
       "    </tr>\n",
       "    <tr>\n",
       "      <th>max</th>\n",
       "      <td>255.000000</td>\n",
       "      <td>255.000000</td>\n",
       "      <td>255.000000</td>\n",
       "      <td>2.000000</td>\n",
       "    </tr>\n",
       "  </tbody>\n",
       "</table>\n",
       "</div>"
      ],
      "text/plain": [
       "                 Red          Green           Blue          Class\n",
       "count  245057.000000  245057.000000  245057.000000  245057.000000\n",
       "mean      125.065446     132.507327     123.177151       1.792461\n",
       "std        62.255653      59.941197      72.562165       0.405546\n",
       "min         0.000000       0.000000       0.000000       1.000000\n",
       "25%        68.000000      87.000000      70.000000       2.000000\n",
       "50%       139.000000     153.000000     128.000000       2.000000\n",
       "75%       176.000000     177.000000     164.000000       2.000000\n",
       "max       255.000000     255.000000     255.000000       2.000000"
      ]
     },
     "execution_count": 3,
     "metadata": {},
     "output_type": "execute_result"
    }
   ],
   "source": [
    "data.describe()"
   ]
  },
  {
   "cell_type": "code",
   "execution_count": 4,
   "metadata": {},
   "outputs": [
    {
     "name": "stdout",
     "output_type": "stream",
     "text": [
      "<class 'pandas.core.frame.DataFrame'>\n",
      "RangeIndex: 245057 entries, 0 to 245056\n",
      "Data columns (total 4 columns):\n",
      "Red      245057 non-null int64\n",
      "Green    245057 non-null int64\n",
      "Blue     245057 non-null int64\n",
      "Class    245057 non-null int64\n",
      "dtypes: int64(4)\n",
      "memory usage: 7.5 MB\n"
     ]
    }
   ],
   "source": [
    "data.info(memory_usage='deep')"
   ]
  },
  {
   "cell_type": "code",
   "execution_count": 5,
   "metadata": {},
   "outputs": [
    {
     "data": {
      "text/html": [
       "<div>\n",
       "<style>\n",
       "    .dataframe thead tr:only-child th {\n",
       "        text-align: right;\n",
       "    }\n",
       "\n",
       "    .dataframe thead th {\n",
       "        text-align: left;\n",
       "    }\n",
       "\n",
       "    .dataframe tbody tr th {\n",
       "        vertical-align: top;\n",
       "    }\n",
       "</style>\n",
       "<table border=\"1\" class=\"dataframe\">\n",
       "  <thead>\n",
       "    <tr style=\"text-align: right;\">\n",
       "      <th></th>\n",
       "      <th>Red</th>\n",
       "      <th>Green</th>\n",
       "      <th>Blue</th>\n",
       "      <th>Class</th>\n",
       "    </tr>\n",
       "  </thead>\n",
       "  <tbody>\n",
       "    <tr>\n",
       "      <th>0</th>\n",
       "      <td>74</td>\n",
       "      <td>85</td>\n",
       "      <td>123</td>\n",
       "      <td>1</td>\n",
       "    </tr>\n",
       "    <tr>\n",
       "      <th>1</th>\n",
       "      <td>73</td>\n",
       "      <td>84</td>\n",
       "      <td>122</td>\n",
       "      <td>1</td>\n",
       "    </tr>\n",
       "    <tr>\n",
       "      <th>2</th>\n",
       "      <td>72</td>\n",
       "      <td>83</td>\n",
       "      <td>121</td>\n",
       "      <td>1</td>\n",
       "    </tr>\n",
       "    <tr>\n",
       "      <th>3</th>\n",
       "      <td>70</td>\n",
       "      <td>81</td>\n",
       "      <td>119</td>\n",
       "      <td>1</td>\n",
       "    </tr>\n",
       "    <tr>\n",
       "      <th>4</th>\n",
       "      <td>70</td>\n",
       "      <td>81</td>\n",
       "      <td>119</td>\n",
       "      <td>1</td>\n",
       "    </tr>\n",
       "  </tbody>\n",
       "</table>\n",
       "</div>"
      ],
      "text/plain": [
       "   Red  Green  Blue  Class\n",
       "0   74     85   123      1\n",
       "1   73     84   122      1\n",
       "2   72     83   121      1\n",
       "3   70     81   119      1\n",
       "4   70     81   119      1"
      ]
     },
     "execution_count": 5,
     "metadata": {},
     "output_type": "execute_result"
    }
   ],
   "source": [
    "data.head()"
   ]
  },
  {
   "cell_type": "markdown",
   "metadata": {},
   "source": [
    "**Separating data into Features (X) and Target(y).**"
   ]
  },
  {
   "cell_type": "code",
   "execution_count": 6,
   "metadata": {
    "collapsed": true
   },
   "outputs": [],
   "source": [
    "X = data.drop(['Class'],axis=1).values\n",
    "y = data.Class.values"
   ]
  },
  {
   "cell_type": "code",
   "execution_count": 7,
   "metadata": {},
   "outputs": [
    {
     "data": {
      "text/plain": [
       "array([[ 74,  85, 123],\n",
       "       [ 73,  84, 122],\n",
       "       [ 72,  83, 121],\n",
       "       ..., \n",
       "       [163, 162, 112],\n",
       "       [163, 162, 112],\n",
       "       [255, 255, 255]], dtype=int64)"
      ]
     },
     "execution_count": 7,
     "metadata": {},
     "output_type": "execute_result"
    }
   ],
   "source": [
    "X"
   ]
  },
  {
   "cell_type": "code",
   "execution_count": 8,
   "metadata": {},
   "outputs": [
    {
     "data": {
      "text/plain": [
       "array([1, 1, 1, ..., 2, 2, 2], dtype=int64)"
      ]
     },
     "execution_count": 8,
     "metadata": {},
     "output_type": "execute_result"
    }
   ],
   "source": [
    "y"
   ]
  },
  {
   "cell_type": "markdown",
   "metadata": {},
   "source": [
    "# Plotting all the attributes"
   ]
  },
  {
   "cell_type": "markdown",
   "metadata": {},
   "source": [
    "Principal Component Analysis (PCA) does the analysis of data to identify patterns and finding patterns to reduce the dimensions of thedataset with minimal loss of information. Here I'm using PCA to covert attributes into 2-dimensions and plot all of them."
   ]
  },
  {
   "cell_type": "markdown",
   "metadata": {},
   "source": [
    "**Scatter Plot**"
   ]
  },
  {
   "cell_type": "code",
   "execution_count": 9,
   "metadata": {},
   "outputs": [
    {
     "data": {
      "image/png": "[encoded data removed]",
      "text/plain": [
       "<matplotlib.figure.Figure at 0x1eb296cd4e0>"
      ]
     },
     "metadata": {},
     "output_type": "display_data"
    }
   ],
   "source": [
    "cmp_pca = PCA(n_components=2) # 2 PCA components;\n",
    "arr_pca = cmp_pca.fit_transform(X)\n",
    "plt.scatter(arr_pca[:,0],arr_pca[:,1],c='G')\n",
    "plt.show()"
   ]
  },
  {
   "cell_type": "code",
   "execution_count": 10,
   "metadata": {},
   "outputs": [
    {
     "data": {
      "text/plain": [
       "<function matplotlib.pyplot.show>"
      ]
     },
     "execution_count": 10,
     "metadata": {},
     "output_type": "execute_result"
    },
    {
     "data": {
      "image/png": "[encoded data removed]",
      "text/plain": [
       "<matplotlib.figure.Figure at 0x1eb29fb28d0>"
      ]
     },
     "metadata": {},
     "output_type": "display_data"
    }
   ],
   "source": [
    "sp = pd.concat([data['Red'], data['Blue']], axis =1)\n",
    "sp.plot.scatter(x = 'Red', y = 'Blue')\n",
    "plt.show"
   ]
  },
  {
   "cell_type": "markdown",
   "metadata": {},
   "source": [
    "**Histogram**"
   ]
  },
  {
   "cell_type": "code",
   "execution_count": 11,
   "metadata": {},
   "outputs": [
    {
     "data": {
      "image/png": "[encoded data removed]",
      "text/plain": [
       "<matplotlib.figure.Figure at 0x1eb2e98a390>"
      ]
     },
     "metadata": {},
     "output_type": "display_data"
    }
   ],
   "source": [
    "from numpy.random import normal\n",
    "arr_pca = normal(size=1000)\n",
    "plt.hist(arr_pca)\n",
    "plt.show()"
   ]
  },
  {
   "cell_type": "markdown",
   "metadata": {},
   "source": [
    "# Correlation Matrix"
   ]
  },
  {
   "cell_type": "markdown",
   "metadata": {},
   "source": [
    "correlation values between attribute columns are shown belown in Correlation Matrix."
   ]
  },
  {
   "cell_type": "code",
   "execution_count": 12,
   "metadata": {},
   "outputs": [
    {
     "data": {
      "text/html": [
       "<div>\n",
       "<style>\n",
       "    .dataframe thead tr:only-child th {\n",
       "        text-align: right;\n",
       "    }\n",
       "\n",
       "    .dataframe thead th {\n",
       "        text-align: left;\n",
       "    }\n",
       "\n",
       "    .dataframe tbody tr th {\n",
       "        vertical-align: top;\n",
       "    }\n",
       "</style>\n",
       "<table border=\"1\" class=\"dataframe\">\n",
       "  <thead>\n",
       "    <tr style=\"text-align: right;\">\n",
       "      <th></th>\n",
       "      <th>Red</th>\n",
       "      <th>Green</th>\n",
       "      <th>Blue</th>\n",
       "    </tr>\n",
       "  </thead>\n",
       "  <tbody>\n",
       "    <tr>\n",
       "      <th>Red</th>\n",
       "      <td>1.000000</td>\n",
       "      <td>0.855250</td>\n",
       "      <td>0.496376</td>\n",
       "    </tr>\n",
       "    <tr>\n",
       "      <th>Green</th>\n",
       "      <td>0.855250</td>\n",
       "      <td>1.000000</td>\n",
       "      <td>0.660098</td>\n",
       "    </tr>\n",
       "    <tr>\n",
       "      <th>Blue</th>\n",
       "      <td>0.496376</td>\n",
       "      <td>0.660098</td>\n",
       "      <td>1.000000</td>\n",
       "    </tr>\n",
       "  </tbody>\n",
       "</table>\n",
       "</div>"
      ],
      "text/plain": [
       "            Red     Green      Blue\n",
       "Red    1.000000  0.855250  0.496376\n",
       "Green  0.855250  1.000000  0.660098\n",
       "Blue   0.496376  0.660098  1.000000"
      ]
     },
     "execution_count": 12,
     "metadata": {},
     "output_type": "execute_result"
    }
   ],
   "source": [
    "data2 = data.drop('Class',axis=1)\n",
    "cor_matrix = data2.corr()\n",
    "cor_matrix"
   ]
  },
  {
   "cell_type": "markdown",
   "metadata": {},
   "source": [
    "# Train Test Split"
   ]
  },
  {
   "cell_type": "markdown",
   "metadata": {},
   "source": [
    "I'm splitting dataset into training and testing set by 80% i.e. 80% train set and 20% test set. Training set contains a known output and model learns on trained data in order to be generalized to other data."
   ]
  },
  {
   "cell_type": "code",
   "execution_count": 13,
   "metadata": {
    "collapsed": true
   },
   "outputs": [],
   "source": [
    "X_train,X_test,y_train,y_test=train_test_split(X,y,test_size=0.2, random_state=20)"
   ]
  },
  {
   "cell_type": "code",
   "execution_count": 14,
   "metadata": {},
   "outputs": [
    {
     "name": "stdout",
     "output_type": "stream",
     "text": [
      "Shape of training data\n",
      "(196045, 3)\n",
      "Shape of testing data\n",
      "(49012, 3)\n"
     ]
    }
   ],
   "source": [
    "print('Shape of training data')\n",
    "print(X_train.shape)\n",
    "print('Shape of testing data')\n",
    "print(X_test.shape)"
   ]
  },
  {
   "cell_type": "markdown",
   "metadata": {},
   "source": [
    "# Logistic Regression Model"
   ]
  },
  {
   "cell_type": "markdown",
   "metadata": {},
   "source": [
    "Logistic regression is a statistical method for analyzing a dataset in which there are one or more independent variables that determine an outcome. Logistic regression builds on the basic formula for linear regression (a), simplified to (b), which produces a predicted target value for an input vector.\n",
    "\n",
    "(a) y(x) = w0+ w1Φ(x1) + ... + wnΦ(xn)\n",
    "\n",
    "(b) y(x) = w'(x)"
   ]
  },
  {
   "cell_type": "code",
   "execution_count": 15,
   "metadata": {
    "collapsed": true
   },
   "outputs": [],
   "source": [
    "LogisticRegressionModel = linear_model.LogisticRegression()"
   ]
  },
  {
   "cell_type": "code",
   "execution_count": 16,
   "metadata": {},
   "outputs": [
    {
     "data": {
      "text/plain": [
       "LogisticRegression(C=1.0, class_weight=None, dual=False, fit_intercept=True,\n",
       "          intercept_scaling=1, max_iter=100, multi_class='ovr', n_jobs=1,\n",
       "          penalty='l2', random_state=None, solver='liblinear', tol=0.0001,\n",
       "          verbose=0, warm_start=False)"
      ]
     },
     "execution_count": 16,
     "metadata": {},
     "output_type": "execute_result"
    }
   ],
   "source": [
    "LogisticRegressionModel.fit(X_train, y_train)"
   ]
  },
  {
   "cell_type": "code",
   "execution_count": 17,
   "metadata": {
    "collapsed": true
   },
   "outputs": [],
   "source": [
    "LogisticRegScore = LogisticRegressionModel.score(X_test,y_test)"
   ]
  },
  {
   "cell_type": "code",
   "execution_count": 18,
   "metadata": {},
   "outputs": [
    {
     "name": "stdout",
     "output_type": "stream",
     "text": [
      "0.918917816045\n"
     ]
    }
   ],
   "source": [
    "print(LogisticRegScore)"
   ]
  },
  {
   "cell_type": "code",
   "execution_count": 19,
   "metadata": {
    "collapsed": true
   },
   "outputs": [],
   "source": [
    "logistic_model_predictions = LogisticRegressionModel.predict(X_test)"
   ]
  },
  {
   "cell_type": "code",
   "execution_count": 20,
   "metadata": {},
   "outputs": [
    {
     "data": {
      "text/plain": [
       "array([2, 2, 1, ..., 2, 1, 2], dtype=int64)"
      ]
     },
     "execution_count": 20,
     "metadata": {},
     "output_type": "execute_result"
    }
   ],
   "source": [
    "logistic_model_predictions"
   ]
  },
  {
   "cell_type": "code",
   "execution_count": 21,
   "metadata": {
    "collapsed": true
   },
   "outputs": [],
   "source": [
    "from sklearn.metrics import confusion_matrix"
   ]
  },
  {
   "cell_type": "code",
   "execution_count": 22,
   "metadata": {
    "collapsed": true
   },
   "outputs": [],
   "source": [
    "logistic_error = confusion_matrix(y_true=y_test, y_pred=logistic_model_predictions, labels=None, sample_weight=None)"
   ]
  },
  {
   "cell_type": "code",
   "execution_count": 23,
   "metadata": {},
   "outputs": [
    {
     "name": "stdout",
     "output_type": "stream",
     "text": [
      "The Error of the Logistic Regression model is: \n",
      "[[ 8395  1807]\n",
      " [ 2167 36643]]\n"
     ]
    }
   ],
   "source": [
    "print('The Error of the Logistic Regression model is: ')\n",
    "print(logistic_error)"
   ]
  },
  {
   "cell_type": "markdown",
   "metadata": {
    "collapsed": true
   },
   "source": [
    "# Kernalized Ridge Regression"
   ]
  },
  {
   "cell_type": "markdown",
   "metadata": {},
   "source": [
    "We use plain Ridge Regression to minimize L2-regularized least-square error. Kernelized Ridge Regression has the same objective, but use a substitution to rewrite the function in terms of ΦΦᵀ, so that predictions can be made without needing to compute ΦΦᵀ directly. A few choices for the kernel are\n",
    "\n",
    "(a)Linear / Identity Kernel : K(X,X’) = Xᵀ X\n",
    "\n",
    "(b)Polynomial Kernel : K(X,X’) = (γ Xᵀ X + r)M \n",
    "\n",
    "(c)RBF / Gaussian Kernel : K(X,X’) = exp [ - (|| X - X’ ||2) / 2σ2 ]\n",
    "\n",
    "**Cross-Validation** : It is a model validation technique for evaluating how the outcomes of a statistical analysis will generalize to an independent data set. Mainly used in backgrounds where the objective is forecast and one wants to estimate how accurately a model will accomplish in practice. The goal of cross-validation is to term a data set to test the model in the training phase (i.e. validation data set) in order to limit problems like overfitting, and get an insight on how the model will generalize to an independent data set.\n",
    "\n",
    "**GridSearchCV** : Scikit-learn’s GridSearchCV performs k-fold cross validation and searches for a best parameters across a set of parameters. Here I'm using 5-fold cross validation for hyperparameter tuning."
   ]
  },
  {
   "cell_type": "markdown",
   "metadata": {},
   "source": [
    "**Dataset is very large and gives memory space error so I considers 10,000 samples and implemented kernel on it.**"
   ]
  },
  {
   "cell_type": "code",
   "execution_count": 24,
   "metadata": {
    "collapsed": true
   },
   "outputs": [],
   "source": [
    "data2 = pd.read_csv('C:/Users/jagpa/ML/ML_Exam/classsification/classification_data.tsv',delimiter='\\t')"
   ]
  },
  {
   "cell_type": "code",
   "execution_count": 25,
   "metadata": {
    "collapsed": true
   },
   "outputs": [],
   "source": [
    "data2 = data2.sample(n=2500)"
   ]
  },
  {
   "cell_type": "code",
   "execution_count": 26,
   "metadata": {},
   "outputs": [
    {
     "data": {
      "text/html": [
       "<div>\n",
       "<style>\n",
       "    .dataframe thead tr:only-child th {\n",
       "        text-align: right;\n",
       "    }\n",
       "\n",
       "    .dataframe thead th {\n",
       "        text-align: left;\n",
       "    }\n",
       "\n",
       "    .dataframe tbody tr th {\n",
       "        vertical-align: top;\n",
       "    }\n",
       "</style>\n",
       "<table border=\"1\" class=\"dataframe\">\n",
       "  <thead>\n",
       "    <tr style=\"text-align: right;\">\n",
       "      <th></th>\n",
       "      <th>Red</th>\n",
       "      <th>Green</th>\n",
       "      <th>Blue</th>\n",
       "      <th>Class</th>\n",
       "    </tr>\n",
       "  </thead>\n",
       "  <tbody>\n",
       "    <tr>\n",
       "      <th>count</th>\n",
       "      <td>2500.000000</td>\n",
       "      <td>2500.000000</td>\n",
       "      <td>2500.000000</td>\n",
       "      <td>2500.000000</td>\n",
       "    </tr>\n",
       "    <tr>\n",
       "      <th>mean</th>\n",
       "      <td>126.922000</td>\n",
       "      <td>134.634400</td>\n",
       "      <td>126.127600</td>\n",
       "      <td>1.790400</td>\n",
       "    </tr>\n",
       "    <tr>\n",
       "      <th>std</th>\n",
       "      <td>61.608861</td>\n",
       "      <td>59.112483</td>\n",
       "      <td>71.855348</td>\n",
       "      <td>0.407105</td>\n",
       "    </tr>\n",
       "    <tr>\n",
       "      <th>min</th>\n",
       "      <td>0.000000</td>\n",
       "      <td>0.000000</td>\n",
       "      <td>0.000000</td>\n",
       "      <td>1.000000</td>\n",
       "    </tr>\n",
       "    <tr>\n",
       "      <th>25%</th>\n",
       "      <td>72.750000</td>\n",
       "      <td>91.000000</td>\n",
       "      <td>84.000000</td>\n",
       "      <td>2.000000</td>\n",
       "    </tr>\n",
       "    <tr>\n",
       "      <th>50%</th>\n",
       "      <td>142.000000</td>\n",
       "      <td>155.000000</td>\n",
       "      <td>129.000000</td>\n",
       "      <td>2.000000</td>\n",
       "    </tr>\n",
       "    <tr>\n",
       "      <th>75%</th>\n",
       "      <td>177.000000</td>\n",
       "      <td>178.000000</td>\n",
       "      <td>166.000000</td>\n",
       "      <td>2.000000</td>\n",
       "    </tr>\n",
       "    <tr>\n",
       "      <th>max</th>\n",
       "      <td>255.000000</td>\n",
       "      <td>255.000000</td>\n",
       "      <td>255.000000</td>\n",
       "      <td>2.000000</td>\n",
       "    </tr>\n",
       "  </tbody>\n",
       "</table>\n",
       "</div>"
      ],
      "text/plain": [
       "               Red        Green         Blue        Class\n",
       "count  2500.000000  2500.000000  2500.000000  2500.000000\n",
       "mean    126.922000   134.634400   126.127600     1.790400\n",
       "std      61.608861    59.112483    71.855348     0.407105\n",
       "min       0.000000     0.000000     0.000000     1.000000\n",
       "25%      72.750000    91.000000    84.000000     2.000000\n",
       "50%     142.000000   155.000000   129.000000     2.000000\n",
       "75%     177.000000   178.000000   166.000000     2.000000\n",
       "max     255.000000   255.000000   255.000000     2.000000"
      ]
     },
     "execution_count": 26,
     "metadata": {},
     "output_type": "execute_result"
    }
   ],
   "source": [
    "data2.describe()"
   ]
  },
  {
   "cell_type": "code",
   "execution_count": 27,
   "metadata": {},
   "outputs": [
    {
     "data": {
      "text/html": [
       "<div>\n",
       "<style>\n",
       "    .dataframe thead tr:only-child th {\n",
       "        text-align: right;\n",
       "    }\n",
       "\n",
       "    .dataframe thead th {\n",
       "        text-align: left;\n",
       "    }\n",
       "\n",
       "    .dataframe tbody tr th {\n",
       "        vertical-align: top;\n",
       "    }\n",
       "</style>\n",
       "<table border=\"1\" class=\"dataframe\">\n",
       "  <thead>\n",
       "    <tr style=\"text-align: right;\">\n",
       "      <th></th>\n",
       "      <th>Red</th>\n",
       "      <th>Green</th>\n",
       "      <th>Blue</th>\n",
       "      <th>Class</th>\n",
       "    </tr>\n",
       "  </thead>\n",
       "  <tbody>\n",
       "    <tr>\n",
       "      <th>105042</th>\n",
       "      <td>173</td>\n",
       "      <td>172</td>\n",
       "      <td>122</td>\n",
       "      <td>2</td>\n",
       "    </tr>\n",
       "    <tr>\n",
       "      <th>131054</th>\n",
       "      <td>108</td>\n",
       "      <td>110</td>\n",
       "      <td>64</td>\n",
       "      <td>2</td>\n",
       "    </tr>\n",
       "    <tr>\n",
       "      <th>15008</th>\n",
       "      <td>143</td>\n",
       "      <td>180</td>\n",
       "      <td>242</td>\n",
       "      <td>1</td>\n",
       "    </tr>\n",
       "    <tr>\n",
       "      <th>207197</th>\n",
       "      <td>94</td>\n",
       "      <td>95</td>\n",
       "      <td>53</td>\n",
       "      <td>2</td>\n",
       "    </tr>\n",
       "    <tr>\n",
       "      <th>44737</th>\n",
       "      <td>122</td>\n",
       "      <td>155</td>\n",
       "      <td>224</td>\n",
       "      <td>1</td>\n",
       "    </tr>\n",
       "  </tbody>\n",
       "</table>\n",
       "</div>"
      ],
      "text/plain": [
       "        Red  Green  Blue  Class\n",
       "105042  173    172   122      2\n",
       "131054  108    110    64      2\n",
       "15008   143    180   242      1\n",
       "207197   94     95    53      2\n",
       "44737   122    155   224      1"
      ]
     },
     "execution_count": 27,
     "metadata": {},
     "output_type": "execute_result"
    }
   ],
   "source": [
    "data2.head()"
   ]
  },
  {
   "cell_type": "code",
   "execution_count": 28,
   "metadata": {},
   "outputs": [
    {
     "name": "stdout",
     "output_type": "stream",
     "text": [
      "<class 'pandas.core.frame.DataFrame'>\n",
      "Int64Index: 2500 entries, 105042 to 40670\n",
      "Data columns (total 4 columns):\n",
      "Red      2500 non-null int64\n",
      "Green    2500 non-null int64\n",
      "Blue     2500 non-null int64\n",
      "Class    2500 non-null int64\n",
      "dtypes: int64(4)\n",
      "memory usage: 97.7 KB\n"
     ]
    }
   ],
   "source": [
    "data2.info()"
   ]
  },
  {
   "cell_type": "code",
   "execution_count": 29,
   "metadata": {
    "collapsed": true
   },
   "outputs": [],
   "source": [
    "X2 = data2.drop('Class',axis=1).values\n",
    "y2 = data2['Class'].values"
   ]
  },
  {
   "cell_type": "code",
   "execution_count": 30,
   "metadata": {},
   "outputs": [
    {
     "data": {
      "image/png": "[encoded data removed]",
      "text/plain": [
       "<matplotlib.figure.Figure at 0x1eb296cd400>"
      ]
     },
     "metadata": {},
     "output_type": "display_data"
    }
   ],
   "source": [
    "cmp_pca2 = PCA(n_components=2) # 2 PCA components;\n",
    "arr_pca2 = cmp_pca2.fit_transform(X2)\n",
    "plt.scatter(arr_pca2[:,0],arr_pca2[:,1],c='R')\n",
    "plt.show()"
   ]
  },
  {
   "cell_type": "code",
   "execution_count": 31,
   "metadata": {
    "collapsed": true
   },
   "outputs": [],
   "source": [
    "X4_train,X4_test,y4_train,y4_test=train_test_split(X2,y2,test_size=0.9, random_state=1)\n",
    "X3_train,X3_test,y3_train,y3_test=train_test_split(X4_train,y4_train,test_size=0.9, random_state=1)\n",
    "X2_train,X2_test,y2_train,y2_test=train_test_split(X3_train,y3_train,test_size=0.2, random_state=1)"
   ]
  },
  {
   "cell_type": "markdown",
   "metadata": {},
   "source": [
    "# Kernalized Ridge Regression"
   ]
  },
  {
   "cell_type": "markdown",
   "metadata": {},
   "source": [
    "**Linear Kernel**"
   ]
  },
  {
   "cell_type": "code",
   "execution_count": 32,
   "metadata": {},
   "outputs": [
    {
     "data": {
      "text/plain": [
       "KernelRidge(alpha=1, coef0=1, degree=3, gamma=None, kernel='linear',\n",
       "      kernel_params=None)"
      ]
     },
     "execution_count": 32,
     "metadata": {},
     "output_type": "execute_result"
    }
   ],
   "source": [
    "KRR_linear=KernelRidge(kernel='linear')\n",
    "KRR_linear.fit(X2_train,y2_train)"
   ]
  },
  {
   "cell_type": "code",
   "execution_count": 33,
   "metadata": {
    "collapsed": true
   },
   "outputs": [],
   "source": [
    "y_pred=KRR_linear.predict(X2_test)"
   ]
  },
  {
   "cell_type": "code",
   "execution_count": 34,
   "metadata": {},
   "outputs": [
    {
     "name": "stdout",
     "output_type": "stream",
     "text": [
      "Score for Linear Kernel : -2.59022127699\n"
     ]
    }
   ],
   "source": [
    "print('Score for Linear Kernel :',r2_score(y2_test,y_pred))"
   ]
  },
  {
   "cell_type": "markdown",
   "metadata": {},
   "source": [
    "**Polynomial Kernel**"
   ]
  },
  {
   "cell_type": "code",
   "execution_count": 35,
   "metadata": {},
   "outputs": [
    {
     "data": {
      "text/plain": [
       "GridSearchCV(cv=5, error_score='raise',\n",
       "       estimator=KernelRidge(alpha=1, coef0=1, degree=3, gamma=1, kernel='polynomial',\n",
       "      kernel_params=None),\n",
       "       fit_params={}, iid=True, n_jobs=1, param_grid={'degree': [2, 3]},\n",
       "       pre_dispatch='2*n_jobs', refit=True, scoring=None, verbose=0)"
      ]
     },
     "execution_count": 35,
     "metadata": {},
     "output_type": "execute_result"
    }
   ],
   "source": [
    "KRR_polynomial= GridSearchCV(KernelRidge(kernel=\"polynomial\", alpha=1, gamma=1, coef0=1), cv=5, param_grid={\"degree\":[2,3]})\n",
    "KRR_polynomial.fit(X2_train,y2_train)"
   ]
  },
  {
   "cell_type": "code",
   "execution_count": 36,
   "metadata": {
    "collapsed": true
   },
   "outputs": [],
   "source": [
    "y_pred=KRR_polynomial.predict(X2_test)"
   ]
  },
  {
   "cell_type": "code",
   "execution_count": 37,
   "metadata": {},
   "outputs": [
    {
     "name": "stdout",
     "output_type": "stream",
     "text": [
      "Score for poly :  -1.7634713863325957\n"
     ]
    }
   ],
   "source": [
    "print('Score for poly : ',KRR_polynomial.best_score_)"
   ]
  },
  {
   "cell_type": "code",
   "execution_count": 38,
   "metadata": {},
   "outputs": [
    {
     "name": "stdout",
     "output_type": "stream",
     "text": [
      "Best parameters :  {'degree': 2}\n"
     ]
    }
   ],
   "source": [
    "print('Best parameters : ',KRR_polynomial.best_params_)"
   ]
  },
  {
   "cell_type": "markdown",
   "metadata": {},
   "source": [
    "**Gaussian Kernel**"
   ]
  },
  {
   "cell_type": "code",
   "execution_count": 39,
   "metadata": {},
   "outputs": [
    {
     "data": {
      "text/plain": [
       "GridSearchCV(cv=5, error_score='raise',\n",
       "       estimator=KernelRidge(alpha=1, coef0=1, degree=3, gamma=None, kernel='rbf',\n",
       "      kernel_params=None),\n",
       "       fit_params={}, iid=True, n_jobs=1,\n",
       "       param_grid={'gamma': [0.1, 0.5, 1, 2, 4]}, pre_dispatch='2*n_jobs',\n",
       "       refit=True, scoring=None, verbose=0)"
      ]
     },
     "execution_count": 39,
     "metadata": {},
     "output_type": "execute_result"
    }
   ],
   "source": [
    "KRR_gaussian= GridSearchCV(KernelRidge(kernel=\"rbf\"), cv=5, param_grid={\"gamma\":[0.1, 0.5, 1, 2, 4]})\n",
    "KRR_gaussian.fit(X2_train,y2_train)"
   ]
  },
  {
   "cell_type": "code",
   "execution_count": 40,
   "metadata": {
    "collapsed": true
   },
   "outputs": [],
   "source": [
    "y_pred=KRR_gaussian.predict(X2_test)"
   ]
  },
  {
   "cell_type": "code",
   "execution_count": 41,
   "metadata": {},
   "outputs": [
    {
     "name": "stdout",
     "output_type": "stream",
     "text": [
      "Score for rbf :  -7.11018072291413\n"
     ]
    }
   ],
   "source": [
    "print('Score for rbf : ',KRR_gaussian.best_score_)"
   ]
  },
  {
   "cell_type": "code",
   "execution_count": 42,
   "metadata": {},
   "outputs": [
    {
     "name": "stdout",
     "output_type": "stream",
     "text": [
      "Best parameters :  {'gamma': 0.1}\n"
     ]
    }
   ],
   "source": [
    "print('Best parameters : ',KRR_gaussian.best_params_)"
   ]
  },
  {
   "cell_type": "markdown",
   "metadata": {},
   "source": [
    "# SVM"
   ]
  },
  {
   "cell_type": "markdown",
   "metadata": {},
   "source": [
    "**Hard Margin SVM using rbf kernel**"
   ]
  },
  {
   "cell_type": "code",
   "execution_count": 43,
   "metadata": {},
   "outputs": [
    {
     "data": {
      "text/plain": [
       "SVC(C=10000000000.0, cache_size=3000, class_weight=None, coef0=0.0,\n",
       "  decision_function_shape='ovr', degree=3, gamma=1.5, kernel='rbf',\n",
       "  max_iter=-1, probability=False, random_state=None, shrinking=False,\n",
       "  tol=0.001, verbose=False)"
      ]
     },
     "execution_count": 43,
     "metadata": {},
     "output_type": "execute_result"
    }
   ],
   "source": [
    "from sklearn import svm\n",
    "hard_svm1 = svm.SVC(C =1e10,kernel=\"rbf\",gamma =1.5,shrinking=False,cache_size=3000)\n",
    "hard_svm1.fit(X2_train,y2_train)"
   ]
  },
  {
   "cell_type": "code",
   "execution_count": 44,
   "metadata": {},
   "outputs": [
    {
     "name": "stdout",
     "output_type": "stream",
     "text": [
      "y prediction : [2 2 2 2 2]\n",
      "Score on test set : 0.8\n",
      "Score on train set : 1.0\n"
     ]
    }
   ],
   "source": [
    "y_pred= hard_svm1.predict(X2_test)\n",
    "print('y prediction :',y_pred)\n",
    "print('Score on test set :',hard_svm1.score(X2_test,y2_test))\n",
    "print('Score on train set :',hard_svm1.score(X2_train,y2_train))"
   ]
  },
  {
   "cell_type": "code",
   "execution_count": 45,
   "metadata": {},
   "outputs": [
    {
     "name": "stdout",
     "output_type": "stream",
     "text": [
      "The Error is: \n",
      "[[0 1]\n",
      " [0 4]]\n"
     ]
    }
   ],
   "source": [
    "svm_error = confusion_matrix(y_true=y2_test, y_pred=y_pred, labels=None, sample_weight=None)\n",
    "print('The Error is: ')\n",
    "print(svm_error)"
   ]
  },
  {
   "cell_type": "markdown",
   "metadata": {},
   "source": [
    "**Hard Margin SVM using linear kernel**"
   ]
  },
  {
   "cell_type": "code",
   "execution_count": 46,
   "metadata": {},
   "outputs": [
    {
     "data": {
      "text/plain": [
       "SVC(C=100000, cache_size=3000, class_weight=None, coef0=0.0,\n",
       "  decision_function_shape='ovr', degree=3, gamma=1, kernel='linear',\n",
       "  max_iter=-1, probability=False, random_state=None, shrinking=False,\n",
       "  tol=0.001, verbose=False)"
      ]
     },
     "execution_count": 46,
     "metadata": {},
     "output_type": "execute_result"
    }
   ],
   "source": [
    "hard_svm2 = svm.SVC(C =100000,kernel=\"linear\",gamma =1,shrinking=False,cache_size=3000)\n",
    "hard_svm2.fit(X2_train,y2_train)"
   ]
  },
  {
   "cell_type": "code",
   "execution_count": 47,
   "metadata": {},
   "outputs": [
    {
     "name": "stdout",
     "output_type": "stream",
     "text": [
      "y prediction : [2 2 2 1 2]\n",
      "Score on test set : 1.0\n",
      "Score on train set : 1.0\n"
     ]
    }
   ],
   "source": [
    "y_pred= hard_svm2.predict(X2_test)\n",
    "print('y prediction :',y_pred)\n",
    "print('Score on test set :',hard_svm2.score(X2_test,y2_test))\n",
    "print('Score on train set :',hard_svm2.score(X2_train,y2_train))"
   ]
  },
  {
   "cell_type": "code",
   "execution_count": 48,
   "metadata": {},
   "outputs": [
    {
     "name": "stdout",
     "output_type": "stream",
     "text": [
      "The Error of linear kernel is: \n",
      "[[1 0]\n",
      " [0 4]]\n"
     ]
    }
   ],
   "source": [
    "svm_error2 = confusion_matrix(y_true=y2_test, y_pred=y_pred, labels=None, sample_weight=None)\n",
    "print('The Error of linear kernel is: ')\n",
    "print(svm_error2)"
   ]
  },
  {
   "cell_type": "markdown",
   "metadata": {},
   "source": [
    "**Hard Margin SVM using poly kernel**"
   ]
  },
  {
   "cell_type": "code",
   "execution_count": 49,
   "metadata": {},
   "outputs": [
    {
     "data": {
      "text/plain": [
       "SVC(C=10000, cache_size=3000, class_weight=None, coef0=0.0,\n",
       "  decision_function_shape='ovr', degree=3, gamma=1, kernel='poly',\n",
       "  max_iter=-1, probability=False, random_state=None, shrinking=False,\n",
       "  tol=0.001, verbose=False)"
      ]
     },
     "execution_count": 49,
     "metadata": {},
     "output_type": "execute_result"
    }
   ],
   "source": [
    "hard_svm3 = svm.SVC(C =10000,kernel=\"poly\",gamma =1,shrinking=False,cache_size=3000)\n",
    "hard_svm3.fit(X2_train,y2_train)"
   ]
  },
  {
   "cell_type": "code",
   "execution_count": 50,
   "metadata": {},
   "outputs": [
    {
     "name": "stdout",
     "output_type": "stream",
     "text": [
      "y prediction : [2 2 2 1 2]\n",
      "Score on test set : 1.0\n",
      "Score on train set : 1.0\n"
     ]
    }
   ],
   "source": [
    "y_pred= hard_svm3.predict(X2_test)\n",
    "print('y prediction :',y_pred)\n",
    "print('Score on test set :',hard_svm3.score(X2_test,y2_test))\n",
    "print('Score on train set :',hard_svm3.score(X2_train,y2_train))"
   ]
  },
  {
   "cell_type": "code",
   "execution_count": 51,
   "metadata": {},
   "outputs": [
    {
     "name": "stdout",
     "output_type": "stream",
     "text": [
      "The Error of polynomial kernel is: \n",
      "[[1 0]\n",
      " [0 4]]\n"
     ]
    }
   ],
   "source": [
    "svm_error3 = confusion_matrix(y_true=y2_test, y_pred=y_pred, labels=None, sample_weight=None)\n",
    "print('The Error of polynomial kernel is: ')\n",
    "print(svm_error3)"
   ]
  },
  {
   "cell_type": "markdown",
   "metadata": {},
   "source": [
    "**Soft Margin SVM**"
   ]
  },
  {
   "cell_type": "code",
   "execution_count": 52,
   "metadata": {},
   "outputs": [
    {
     "name": "stdout",
     "output_type": "stream",
     "text": [
      "y prediction : [2 2 2 2 2]\n",
      "score on test data for 0.1 : 0.8\n",
      "score on train data for 0.1 : 1.0\n",
      "confusion_mx_error for 0.1\n",
      "[[0 1]\n",
      " [0 4]]\n",
      "\n",
      "\n",
      "y prediction : [2 2 2 2 2]\n",
      "score on test data for 0.5 : 0.8\n",
      "score on train data for 0.5 : 1.0\n",
      "confusion_mx_error for 0.5\n",
      "[[0 1]\n",
      " [0 4]]\n",
      "\n",
      "\n",
      "y prediction : [2 2 2 2 2]\n",
      "score on test data for 1 : 0.8\n",
      "score on train data for 1 : 1.0\n",
      "confusion_mx_error for 1\n",
      "[[0 1]\n",
      " [0 4]]\n",
      "\n",
      "\n",
      "y prediction : [2 2 2 2 2]\n",
      "score on test data for 2 : 0.8\n",
      "score on train data for 2 : 1.0\n",
      "confusion_mx_error for 2\n",
      "[[0 1]\n",
      " [0 4]]\n",
      "\n",
      "\n"
     ]
    }
   ],
   "source": [
    "coef0 = [0.1, 0.5, 1, 2, 5]\n",
    "for i in range(4) :\n",
    "    soft_svm = svm.SVC(C = 1,coef0=coef0[i])\n",
    "    soft_svm.fit(X2_train,y2_train)\n",
    "    y_pred= soft_svm.predict(X2_test)\n",
    "    print('y prediction :',y_pred)\n",
    "    print('score on test data for', coef0[i],':',soft_svm.score(X2_test,y2_test))\n",
    "    print('score on train data for', coef0[i],':',soft_svm.score(X2_train,y2_train))\n",
    "    conf_mx = confusion_matrix(y2_test,y_pred)\n",
    "    print('confusion_mx_error for',coef0[i])\n",
    "    print(conf_mx)\n",
    "    print('\\n')"
   ]
  },
  {
   "cell_type": "markdown",
   "metadata": {},
   "source": [
    "**Soft Margin SVM using cross validation(Linear)**"
   ]
  },
  {
   "cell_type": "code",
   "execution_count": 53,
   "metadata": {},
   "outputs": [
    {
     "name": "stdout",
     "output_type": "stream",
     "text": [
      "score for linear : 1.0\n",
      "best parameters : {'C': 1, 'kernel': 'linear', 'max_iter': 5000}\n",
      "confusion_mx_error:\n",
      " [[0 1]\n",
      " [0 4]]\n"
     ]
    }
   ],
   "source": [
    "soft_svm2_lnr = svm.SVC()\n",
    "soft_svm2_lnr = GridSearchCV(estimator=soft_svm2_lnr, param_grid={'kernel': ['linear'], 'C': [1, 100, 100], 'max_iter':[5000]}, cv=5, refit=True, scoring='accuracy')\n",
    "soft_svm2_lnr.fit(X2_train, y2_train)\n",
    "y_pred2 = soft_svm2_lnr.predict(X2_test)\n",
    "y_pred2\n",
    "print('score for linear :',soft_svm2_lnr.best_score_)\n",
    "print('best parameters :',soft_svm2_lnr.best_params_)\n",
    "conf_mx = confusion_matrix(y2_test,y_pred)\n",
    "print('confusion_mx_error:\\n',conf_mx)"
   ]
  },
  {
   "cell_type": "markdown",
   "metadata": {},
   "source": [
    "**Soft Margin SVM using cross validation(Poly)**"
   ]
  },
  {
   "cell_type": "code",
   "execution_count": 54,
   "metadata": {},
   "outputs": [
    {
     "name": "stdout",
     "output_type": "stream",
     "text": [
      "score for polynomial : 1.0\n",
      "best parameters : {'C': 1, 'gamma': 0.1, 'kernel': 'poly', 'max_iter': 5000}\n",
      "confusion_mx_error:\n",
      " [[0 1]\n",
      " [0 4]]\n"
     ]
    }
   ],
   "source": [
    "soft_svm2_poly = svm.SVC()\n",
    "soft_svm2_poly = GridSearchCV(estimator=soft_svm2_poly, param_grid={'kernel': ['poly'], 'C': [1, 100, 100],  'gamma': [0.1, 0.5, 1, 2, 5], 'max_iter':[5000]}, cv=5, refit=True, scoring='accuracy')\n",
    "soft_svm2_poly.fit(X2_train, y2_train)\n",
    "y_pred2 = soft_svm2_poly.predict(X2_test)\n",
    "y_pred2\n",
    "print('score for polynomial :',soft_svm2_poly.best_score_)\n",
    "print('best parameters :',soft_svm2_poly.best_params_)\n",
    "conf_mx = confusion_matrix(y2_test,y_pred)\n",
    "print('confusion_mx_error:\\n',conf_mx)"
   ]
  },
  {
   "cell_type": "markdown",
   "metadata": {},
   "source": [
    "**Soft Margin SVM using cross validation(RBF)**"
   ]
  },
  {
   "cell_type": "code",
   "execution_count": 55,
   "metadata": {},
   "outputs": [
    {
     "name": "stdout",
     "output_type": "stream",
     "text": [
      "score for rbf : 0.8\n",
      "best parameters : {'C': 0.1, 'gamma': 0.1, 'kernel': 'rbf', 'max_iter': 5000}\n",
      "confusion_mx_error:\n",
      " [[0 1]\n",
      " [0 4]]\n"
     ]
    }
   ],
   "source": [
    "soft_svm2_rbf = svm.SVC()\n",
    "soft_svm2_rbf = GridSearchCV(estimator=soft_svm2_rbf, param_grid={'kernel': ['rbf'], 'C': [0.1, 10, 100],  'gamma': [0.1, 0.5, 1, 2, 5], 'max_iter':[5000]}, cv=5, refit=True, scoring='accuracy')\n",
    "soft_svm2_rbf.fit(X2_train, y2_train)\n",
    "y_pred2 = soft_svm2_rbf.predict(X2_test)\n",
    "y_pred2\n",
    "print('score for rbf :',soft_svm2_rbf.best_score_)\n",
    "print('best parameters :',soft_svm2_rbf.best_params_)\n",
    "conf_mx = confusion_matrix(y2_test,y_pred)\n",
    "print('confusion_mx_error:\\n',conf_mx)"
   ]
  },
  {
   "cell_type": "markdown",
   "metadata": {},
   "source": [
    "# RESULTS"
   ]
  },
  {
   "cell_type": "markdown",
   "metadata": {},
   "source": [
    "Performance measures of all the models given below :\n",
    "\n",
    "**Logistic Regression Model** : 0.918917816045\n",
    "\n",
    "**Kernalized Ridge Regression**\n",
    "\n",
    "Linear Kernel : -2.59022127699, Polynomial Kernel : -1.7634713863325957 , Gaussian Kernel : -7.11018072291413\n",
    "\n",
    "**SVM**\n",
    "\n",
    "Hard SVM :  rbf : 0.8, linear : 1.0 , poly : 1.0\n",
    "\n",
    "Soft SVM : 0.8 for all coefficients\n",
    "\n",
    "Soft SVM using CV : linear :1.0 for coef=0.1, poly: 1.0 for coef=0.1, rbf: 0.8\n",
    "\n",
    "**Performance of Kernel on dataset is poor. SVM model is best amongst all**"
   ]
  },
  {
   "cell_type": "code",
   "execution_count": null,
   "metadata": {
    "collapsed": true
   },
   "outputs": [],
   "source": []
  }
 ],
 "metadata": {
  "kernelspec": {
   "display_name": "Python 3",
   "language": "python",
   "name": "python3"
  },
  "language_info": {
   "codemirror_mode": {
    "name": "ipython",
    "version": 3
   },
   "file_extension": ".py",
   "mimetype": "text/x-python",
   "name": "python",
   "nbconvert_exporter": "python",
   "pygments_lexer": "ipython3",
   "version": "3.6.3"
  }
 },
 "nbformat": 4,
 "nbformat_minor": 2
}
